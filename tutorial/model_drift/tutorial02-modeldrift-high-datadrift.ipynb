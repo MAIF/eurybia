{
 "cells": [
  {
   "cell_type": "markdown",
   "id": "9b6f3ff7",
   "metadata": {},
   "source": [
    "# Detect High Model Drift \n",
    "<b>With this tutorial you:</b><br />\n",
    "Understand how to use Eurybia to detect datadrift\n",
    "\n",
    "Contents:\n",
    "- Detect data drift  \n",
    "- Compile Drift over years\n",
    "\n",
    "This public dataset comes from :\n",
    "\n",
    "https://www.kaggle.com/sobhanmoosavi/us-accidents/version/10\n",
    "\n",
    "---\n",
    "Acknowledgements\n",
    "- Moosavi, Sobhan, Mohammad Hossein Samavatian, Srinivasan Parthasarathy, and Rajiv Ramnath. “A Countrywide Traffic Accident Dataset.”, 2019.\n",
    "- Moosavi, Sobhan, Mohammad Hossein Samavatian, Srinivasan Parthasarathy, Radu Teodorescu, and Rajiv Ramnath. \"Accident Risk Prediction based on Heterogeneous Sparse Data: New Dataset and Insights.\" In proceedings of the 27th ACM SIGSPATIAL International Conference on Advances in Geographic Information Systems, ACM, 2019.\n",
    "---\n",
    "\n",
    "In this tutorial, the data are not loaded raw, a data preparation to facilitate the use of the tutorial has been done. You can find it here : \n",
    "https://github.com/MAIF/eurybia/blob/master/eurybia/data/dataprep_US_car_accidents.ipynb"
   ]
  },
  {
   "cell_type": "markdown",
   "id": "6ee7dedd",
   "metadata": {},
   "source": [
    "**Requirements notice** : the following tutorial may use third party modules not included in Eurybia.  \n",
    "You can find them all in one file [on our Github repository](https://github.com/MAIF/eurybia/blob/master/requirements.dev.txt) or you can manually install those you are missing, if any."
   ]
  },
  {
   "cell_type": "code",
   "execution_count": 1,
   "id": "8c767469",
   "metadata": {},
   "outputs": [],
   "source": [
    "import pandas as pd\n",
    "from category_encoders import OrdinalEncoder\n",
    "import catboost\n",
    "from eurybia import SmartDrift\n",
    "from sklearn.model_selection import train_test_split\n",
    "from sklearn import metrics\n",
    "import numpy as np"
   ]
  },
  {
   "cell_type": "markdown",
   "id": "939acff0",
   "metadata": {},
   "source": [
    "## Import Dataset and split in training and production dataset"
   ]
  },
  {
   "cell_type": "code",
   "execution_count": 2,
   "id": "e0b10b1b",
   "metadata": {},
   "outputs": [],
   "source": [
    "from eurybia.data.data_loader import data_loading"
   ]
  },
  {
   "cell_type": "code",
   "execution_count": 3,
   "id": "6d3d1d90",
   "metadata": {},
   "outputs": [],
   "source": [
    "df_car_accident = data_loading(\"us_car_accident\")"
   ]
  },
  {
   "cell_type": "code",
   "execution_count": 4,
   "id": "8a0a6ef4",
   "metadata": {},
   "outputs": [
    {
     "data": {
      "text/html": [
       "<div>\n",
       "<style scoped>\n",
       "    .dataframe tbody tr th:only-of-type {\n",
       "        vertical-align: middle;\n",
       "    }\n",
       "\n",
       "    .dataframe tbody tr th {\n",
       "        vertical-align: top;\n",
       "    }\n",
       "\n",
       "    .dataframe thead th {\n",
       "        text-align: right;\n",
       "    }\n",
       "</style>\n",
       "<table border=\"1\" class=\"dataframe\">\n",
       "  <thead>\n",
       "    <tr style=\"text-align: right;\">\n",
       "      <th></th>\n",
       "      <th>Start_Lat</th>\n",
       "      <th>Start_Lng</th>\n",
       "      <th>Distance(mi)</th>\n",
       "      <th>Temperature(F)</th>\n",
       "      <th>Humidity(%)</th>\n",
       "      <th>Visibility(mi)</th>\n",
       "      <th>Wind_Direction</th>\n",
       "      <th>Weather_Condition</th>\n",
       "      <th>day_of_week_acc</th>\n",
       "      <th>Nautical_Twilight</th>\n",
       "      <th>season_acc</th>\n",
       "      <th>cible</th>\n",
       "      <th>year_acc</th>\n",
       "    </tr>\n",
       "  </thead>\n",
       "  <tbody>\n",
       "    <tr>\n",
       "      <th>0</th>\n",
       "      <td>37.5</td>\n",
       "      <td>-122.3</td>\n",
       "      <td>0.0</td>\n",
       "      <td>73.0</td>\n",
       "      <td>44.0</td>\n",
       "      <td>10.0</td>\n",
       "      <td>0.112071</td>\n",
       "      <td>Fair</td>\n",
       "      <td>3</td>\n",
       "      <td>Day</td>\n",
       "      <td>autumn</td>\n",
       "      <td>0</td>\n",
       "      <td>2020</td>\n",
       "    </tr>\n",
       "    <tr>\n",
       "      <th>1</th>\n",
       "      <td>33.4</td>\n",
       "      <td>-112.6</td>\n",
       "      <td>0.0</td>\n",
       "      <td>59.0</td>\n",
       "      <td>55.0</td>\n",
       "      <td>10.0</td>\n",
       "      <td>0.175655</td>\n",
       "      <td>Fair</td>\n",
       "      <td>5</td>\n",
       "      <td>Night</td>\n",
       "      <td>spring</td>\n",
       "      <td>0</td>\n",
       "      <td>2020</td>\n",
       "    </tr>\n",
       "    <tr>\n",
       "      <th>2</th>\n",
       "      <td>28.0</td>\n",
       "      <td>-82.3</td>\n",
       "      <td>1.0</td>\n",
       "      <td>77.0</td>\n",
       "      <td>89.0</td>\n",
       "      <td>10.0</td>\n",
       "      <td>0.172628</td>\n",
       "      <td>Cloudy</td>\n",
       "      <td>1</td>\n",
       "      <td>Night</td>\n",
       "      <td>autumn</td>\n",
       "      <td>0</td>\n",
       "      <td>2020</td>\n",
       "    </tr>\n",
       "    <tr>\n",
       "      <th>3</th>\n",
       "      <td>33.1</td>\n",
       "      <td>-117.3</td>\n",
       "      <td>1.0</td>\n",
       "      <td>69.0</td>\n",
       "      <td>11.0</td>\n",
       "      <td>10.0</td>\n",
       "      <td>0.195514</td>\n",
       "      <td>Fair</td>\n",
       "      <td>0</td>\n",
       "      <td>Night</td>\n",
       "      <td>winter</td>\n",
       "      <td>0</td>\n",
       "      <td>2020</td>\n",
       "    </tr>\n",
       "    <tr>\n",
       "      <th>4</th>\n",
       "      <td>39.8</td>\n",
       "      <td>-86.0</td>\n",
       "      <td>0.0</td>\n",
       "      <td>43.0</td>\n",
       "      <td>81.0</td>\n",
       "      <td>10.0</td>\n",
       "      <td>0.145093</td>\n",
       "      <td>Fair</td>\n",
       "      <td>6</td>\n",
       "      <td>Day</td>\n",
       "      <td>winter</td>\n",
       "      <td>0</td>\n",
       "      <td>2020</td>\n",
       "    </tr>\n",
       "  </tbody>\n",
       "</table>\n",
       "</div>"
      ],
      "text/plain": [
       "   Start_Lat  Start_Lng  Distance(mi)  Temperature(F)  Humidity(%)  \\\n",
       "0       37.5     -122.3           0.0            73.0         44.0   \n",
       "1       33.4     -112.6           0.0            59.0         55.0   \n",
       "2       28.0      -82.3           1.0            77.0         89.0   \n",
       "3       33.1     -117.3           1.0            69.0         11.0   \n",
       "4       39.8      -86.0           0.0            43.0         81.0   \n",
       "\n",
       "   Visibility(mi)  Wind_Direction Weather_Condition  day_of_week_acc  \\\n",
       "0            10.0        0.112071              Fair                3   \n",
       "1            10.0        0.175655              Fair                5   \n",
       "2            10.0        0.172628            Cloudy                1   \n",
       "3            10.0        0.195514              Fair                0   \n",
       "4            10.0        0.145093              Fair                6   \n",
       "\n",
       "  Nautical_Twilight season_acc  cible  year_acc  \n",
       "0               Day     autumn      0      2020  \n",
       "1             Night     spring      0      2020  \n",
       "2             Night     autumn      0      2020  \n",
       "3             Night     winter      0      2020  \n",
       "4               Day     winter      0      2020  "
      ]
     },
     "execution_count": 4,
     "metadata": {},
     "output_type": "execute_result"
    }
   ],
   "source": [
    "df_car_accident.head()"
   ]
  },
  {
   "cell_type": "code",
   "execution_count": 5,
   "id": "78f258f5",
   "metadata": {},
   "outputs": [
    {
     "data": {
      "text/html": [
       "<div>\n",
       "<style scoped>\n",
       "    .dataframe tbody tr th:only-of-type {\n",
       "        vertical-align: middle;\n",
       "    }\n",
       "\n",
       "    .dataframe tbody tr th {\n",
       "        vertical-align: top;\n",
       "    }\n",
       "\n",
       "    .dataframe thead th {\n",
       "        text-align: right;\n",
       "    }\n",
       "</style>\n",
       "<table border=\"1\" class=\"dataframe\">\n",
       "  <thead>\n",
       "    <tr style=\"text-align: right;\">\n",
       "      <th></th>\n",
       "      <th>Start_Lat</th>\n",
       "      <th>Start_Lng</th>\n",
       "      <th>Distance(mi)</th>\n",
       "      <th>Temperature(F)</th>\n",
       "      <th>Humidity(%)</th>\n",
       "      <th>Visibility(mi)</th>\n",
       "      <th>Wind_Direction</th>\n",
       "      <th>Weather_Condition</th>\n",
       "      <th>day_of_week_acc</th>\n",
       "      <th>Nautical_Twilight</th>\n",
       "      <th>season_acc</th>\n",
       "      <th>cible</th>\n",
       "      <th>year_acc</th>\n",
       "    </tr>\n",
       "  </thead>\n",
       "  <tbody>\n",
       "    <tr>\n",
       "      <th>0</th>\n",
       "      <td>37.5</td>\n",
       "      <td>-122.3</td>\n",
       "      <td>0.0</td>\n",
       "      <td>73.0</td>\n",
       "      <td>44.0</td>\n",
       "      <td>10.0</td>\n",
       "      <td>0.112071</td>\n",
       "      <td>Fair</td>\n",
       "      <td>3</td>\n",
       "      <td>Day</td>\n",
       "      <td>autumn</td>\n",
       "      <td>0</td>\n",
       "      <td>2020</td>\n",
       "    </tr>\n",
       "    <tr>\n",
       "      <th>1</th>\n",
       "      <td>33.4</td>\n",
       "      <td>-112.6</td>\n",
       "      <td>0.0</td>\n",
       "      <td>59.0</td>\n",
       "      <td>55.0</td>\n",
       "      <td>10.0</td>\n",
       "      <td>0.175655</td>\n",
       "      <td>Fair</td>\n",
       "      <td>5</td>\n",
       "      <td>Night</td>\n",
       "      <td>spring</td>\n",
       "      <td>0</td>\n",
       "      <td>2020</td>\n",
       "    </tr>\n",
       "    <tr>\n",
       "      <th>2</th>\n",
       "      <td>28.0</td>\n",
       "      <td>-82.3</td>\n",
       "      <td>1.0</td>\n",
       "      <td>77.0</td>\n",
       "      <td>89.0</td>\n",
       "      <td>10.0</td>\n",
       "      <td>0.172628</td>\n",
       "      <td>Cloudy</td>\n",
       "      <td>1</td>\n",
       "      <td>Night</td>\n",
       "      <td>autumn</td>\n",
       "      <td>0</td>\n",
       "      <td>2020</td>\n",
       "    </tr>\n",
       "    <tr>\n",
       "      <th>3</th>\n",
       "      <td>33.1</td>\n",
       "      <td>-117.3</td>\n",
       "      <td>1.0</td>\n",
       "      <td>69.0</td>\n",
       "      <td>11.0</td>\n",
       "      <td>10.0</td>\n",
       "      <td>0.195514</td>\n",
       "      <td>Fair</td>\n",
       "      <td>0</td>\n",
       "      <td>Night</td>\n",
       "      <td>winter</td>\n",
       "      <td>0</td>\n",
       "      <td>2020</td>\n",
       "    </tr>\n",
       "    <tr>\n",
       "      <th>4</th>\n",
       "      <td>39.8</td>\n",
       "      <td>-86.0</td>\n",
       "      <td>0.0</td>\n",
       "      <td>43.0</td>\n",
       "      <td>81.0</td>\n",
       "      <td>10.0</td>\n",
       "      <td>0.145093</td>\n",
       "      <td>Fair</td>\n",
       "      <td>6</td>\n",
       "      <td>Day</td>\n",
       "      <td>winter</td>\n",
       "      <td>0</td>\n",
       "      <td>2020</td>\n",
       "    </tr>\n",
       "  </tbody>\n",
       "</table>\n",
       "</div>"
      ],
      "text/plain": [
       "   Start_Lat  Start_Lng  Distance(mi)  Temperature(F)  Humidity(%)  \\\n",
       "0       37.5     -122.3           0.0            73.0         44.0   \n",
       "1       33.4     -112.6           0.0            59.0         55.0   \n",
       "2       28.0      -82.3           1.0            77.0         89.0   \n",
       "3       33.1     -117.3           1.0            69.0         11.0   \n",
       "4       39.8      -86.0           0.0            43.0         81.0   \n",
       "\n",
       "   Visibility(mi)  Wind_Direction Weather_Condition  day_of_week_acc  \\\n",
       "0            10.0        0.112071              Fair                3   \n",
       "1            10.0        0.175655              Fair                5   \n",
       "2            10.0        0.172628            Cloudy                1   \n",
       "3            10.0        0.195514              Fair                0   \n",
       "4            10.0        0.145093              Fair                6   \n",
       "\n",
       "  Nautical_Twilight season_acc  cible  year_acc  \n",
       "0               Day     autumn      0      2020  \n",
       "1             Night     spring      0      2020  \n",
       "2             Night     autumn      0      2020  \n",
       "3             Night     winter      0      2020  \n",
       "4               Day     winter      0      2020  "
      ]
     },
     "execution_count": 5,
     "metadata": {},
     "output_type": "execute_result"
    }
   ],
   "source": [
    "df_car_accident.head()"
   ]
  },
  {
   "cell_type": "code",
   "execution_count": 6,
   "id": "05039303",
   "metadata": {},
   "outputs": [
    {
     "data": {
      "text/plain": [
       "(31935, 13)"
      ]
     },
     "execution_count": 6,
     "metadata": {},
     "output_type": "execute_result"
    }
   ],
   "source": [
    "df_car_accident.shape"
   ]
  },
  {
   "cell_type": "code",
   "execution_count": 7,
   "id": "a1d226fa",
   "metadata": {},
   "outputs": [],
   "source": [
    "# Let us consider that the column \"year_acc\" corresponds to the reference date. \n",
    "#In 2016, a model was trained using data. And in next years, we want to detect data drift on new data in production to predict\n",
    "df_accident_baseline = df_car_accident.loc[df_car_accident['year_acc'] == 2016]\n",
    "df_accident_2017 = df_car_accident.loc[df_car_accident['year_acc'] == 2017]\n",
    "df_accident_2018 = df_car_accident.loc[df_car_accident['year_acc'] == 2018]\n",
    "df_accident_2019 = df_car_accident.loc[df_car_accident['year_acc'] == 2019]\n",
    "df_accident_2020 = df_car_accident.loc[df_car_accident['year_acc'] == 2020]"
   ]
  },
  {
   "cell_type": "code",
   "execution_count": 8,
   "id": "1e81bb4e",
   "metadata": {},
   "outputs": [
    {
     "data": {
      "text/html": [
       "<div>\n",
       "<style scoped>\n",
       "    .dataframe tbody tr th:only-of-type {\n",
       "        vertical-align: middle;\n",
       "    }\n",
       "\n",
       "    .dataframe tbody tr th {\n",
       "        vertical-align: top;\n",
       "    }\n",
       "\n",
       "    .dataframe thead th {\n",
       "        text-align: right;\n",
       "    }\n",
       "</style>\n",
       "<table border=\"1\" class=\"dataframe\">\n",
       "  <thead>\n",
       "    <tr style=\"text-align: right;\">\n",
       "      <th>cible</th>\n",
       "      <th>0</th>\n",
       "      <th>1</th>\n",
       "    </tr>\n",
       "    <tr>\n",
       "      <th>year_acc</th>\n",
       "      <th></th>\n",
       "      <th></th>\n",
       "    </tr>\n",
       "  </thead>\n",
       "  <tbody>\n",
       "    <tr>\n",
       "      <th>2016</th>\n",
       "      <td>71.331283</td>\n",
       "      <td>28.668717</td>\n",
       "    </tr>\n",
       "    <tr>\n",
       "      <th>2017</th>\n",
       "      <td>68.273017</td>\n",
       "      <td>31.726983</td>\n",
       "    </tr>\n",
       "    <tr>\n",
       "      <th>2018</th>\n",
       "      <td>66.641250</td>\n",
       "      <td>33.358750</td>\n",
       "    </tr>\n",
       "    <tr>\n",
       "      <th>2019</th>\n",
       "      <td>79.600182</td>\n",
       "      <td>20.399818</td>\n",
       "    </tr>\n",
       "    <tr>\n",
       "      <th>2020</th>\n",
       "      <td>90.525000</td>\n",
       "      <td>9.475000</td>\n",
       "    </tr>\n",
       "  </tbody>\n",
       "</table>\n",
       "</div>"
      ],
      "text/plain": [
       "cible             0          1\n",
       "year_acc                      \n",
       "2016      71.331283  28.668717\n",
       "2017      68.273017  31.726983\n",
       "2018      66.641250  33.358750\n",
       "2019      79.600182  20.399818\n",
       "2020      90.525000   9.475000"
      ]
     },
     "execution_count": 8,
     "metadata": {},
     "output_type": "execute_result"
    }
   ],
   "source": [
    "#We will train a classification model to predict the severity of an accident. 0 for a less severe accident and 1 for a severe accident.\n",
    "#Let's check percentage in class 0 and 1\n",
    "pd.crosstab(df_car_accident.year_acc, df_car_accident.cible, normalize = 'index')*100"
   ]
  },
  {
   "cell_type": "code",
   "execution_count": 9,
   "id": "c13ca2a5",
   "metadata": {},
   "outputs": [],
   "source": [
    "y_df_learning=df_accident_baseline['cible'].to_frame()\n",
    "X_df_learning=df_accident_baseline[df_accident_baseline.columns.difference(['cible','year_acc'])]\n",
    "\n",
    "y_df_2017=df_accident_2017['cible'].to_frame()\n",
    "X_df_2017=df_accident_2017[df_accident_2017.columns.difference(['cible','year_acc'])]\n",
    "\n",
    "y_df_2018=df_accident_2018['cible'].to_frame()\n",
    "X_df_2018=df_accident_2018[df_accident_2018.columns.difference(['cible','year_acc'])]\n",
    "\n",
    "y_df_2019=df_accident_2019['cible'].to_frame()\n",
    "X_df_2019=df_accident_2019[df_accident_2019.columns.difference(['cible','year_acc'])]\n",
    "\n",
    "y_df_2020=df_accident_2020['cible'].to_frame()\n",
    "X_df_2020=df_accident_2020[df_accident_2020.columns.difference(['cible','year_acc'])]\n",
    "\n"
   ]
  },
  {
   "cell_type": "markdown",
   "id": "676b7cd8",
   "metadata": {},
   "source": [
    "## Building Supervized Model"
   ]
  },
  {
   "cell_type": "code",
   "execution_count": 10,
   "id": "daba7f7d",
   "metadata": {},
   "outputs": [],
   "source": [
    "features = ['Start_Lat', 'Start_Lng', 'Distance(mi)', 'Temperature(F)',\n",
    "       'Humidity(%)', 'Visibility(mi)', 'Wind_Direction',\n",
    "       'Weather_Condition', 'day_of_week_acc', 'Nautical_Twilight',\n",
    "       'season_acc']"
   ]
  },
  {
   "cell_type": "code",
   "execution_count": 11,
   "id": "c4b67a87",
   "metadata": {},
   "outputs": [],
   "source": [
    "df_car_accident = data_loading(\"us_car_accident\")\n",
    "df_accident_baseline = df_car_accident.loc[df_car_accident['year_acc'] == 2016]\n",
    "df_accident_2017 = df_car_accident.loc[df_car_accident['year_acc'] == 2017]\n",
    "df_accident_2018 = df_car_accident.loc[df_car_accident['year_acc'] == 2018]\n",
    "df_accident_2019 = df_car_accident.loc[df_car_accident['year_acc'] == 2019]\n",
    "df_accident_2020 = df_car_accident.loc[df_car_accident['year_acc'] == 2020]\n",
    "\n",
    "y_df_learning=df_accident_baseline['cible'].to_frame()\n",
    "X_df_learning=df_accident_baseline[df_accident_baseline.columns.difference(['cible','year_acc'])]\n",
    "\n",
    "y_df_2017=df_accident_2017['cible'].to_frame()\n",
    "X_df_2017=df_accident_2017[df_accident_2017.columns.difference(['cible','year_acc'])]\n",
    "\n",
    "y_df_2018=df_accident_2018['cible'].to_frame()\n",
    "X_df_2018=df_accident_2018[df_accident_2018.columns.difference(['cible','year_acc'])]\n",
    "\n",
    "y_df_2019=df_accident_2019['cible'].to_frame()\n",
    "X_df_2019=df_accident_2019[df_accident_2019.columns.difference(['cible','year_acc'])]\n",
    "\n",
    "y_df_2020=df_accident_2020['cible'].to_frame()\n",
    "X_df_2020=df_accident_2020[df_accident_2020.columns.difference(['cible','year_acc'])]\n",
    "\n",
    "features = ['Start_Lat', 'Start_Lng', 'Distance(mi)', 'Temperature(F)',\n",
    "   'Humidity(%)', 'Visibility(mi)', 'Wind_Direction',\n",
    "   'Weather_Condition', 'day_of_week_acc', 'Nautical_Twilight',\n",
    "   'season_acc']\n",
    "\n",
    "features_to_encode = [col for col in X_df_learning[features].columns if X_df_learning[col].dtype not in ('float64','int64')]"
   ]
  },
  {
   "cell_type": "code",
   "execution_count": 12,
   "id": "268f65bc",
   "metadata": {},
   "outputs": [
    {
     "data": {
      "text/html": [
       "<div>\n",
       "<style scoped>\n",
       "    .dataframe tbody tr th:only-of-type {\n",
       "        vertical-align: middle;\n",
       "    }\n",
       "\n",
       "    .dataframe tbody tr th {\n",
       "        vertical-align: top;\n",
       "    }\n",
       "\n",
       "    .dataframe thead th {\n",
       "        text-align: right;\n",
       "    }\n",
       "</style>\n",
       "<table border=\"1\" class=\"dataframe\">\n",
       "  <thead>\n",
       "    <tr style=\"text-align: right;\">\n",
       "      <th></th>\n",
       "      <th>Distance(mi)</th>\n",
       "      <th>Humidity(%)</th>\n",
       "      <th>Nautical_Twilight</th>\n",
       "      <th>Start_Lat</th>\n",
       "      <th>Start_Lng</th>\n",
       "      <th>Temperature(F)</th>\n",
       "      <th>Visibility(mi)</th>\n",
       "      <th>Weather_Condition</th>\n",
       "      <th>Wind_Direction</th>\n",
       "      <th>day_of_week_acc</th>\n",
       "      <th>season_acc</th>\n",
       "    </tr>\n",
       "  </thead>\n",
       "  <tbody>\n",
       "    <tr>\n",
       "      <th>8001</th>\n",
       "      <td>0.0</td>\n",
       "      <td>83.0</td>\n",
       "      <td>Day</td>\n",
       "      <td>45.4</td>\n",
       "      <td>-122.8</td>\n",
       "      <td>60.0</td>\n",
       "      <td>10.0</td>\n",
       "      <td>Overcast</td>\n",
       "      <td>0.333966</td>\n",
       "      <td>2</td>\n",
       "      <td>summer</td>\n",
       "    </tr>\n",
       "    <tr>\n",
       "      <th>8006</th>\n",
       "      <td>0.0</td>\n",
       "      <td>46.0</td>\n",
       "      <td>Day</td>\n",
       "      <td>35.1</td>\n",
       "      <td>-80.8</td>\n",
       "      <td>94.0</td>\n",
       "      <td>10.0</td>\n",
       "      <td>Partly Cloudy</td>\n",
       "      <td>0.193432</td>\n",
       "      <td>2</td>\n",
       "      <td>summer</td>\n",
       "    </tr>\n",
       "    <tr>\n",
       "      <th>8015</th>\n",
       "      <td>0.0</td>\n",
       "      <td>97.0</td>\n",
       "      <td>Day</td>\n",
       "      <td>35.2</td>\n",
       "      <td>-80.8</td>\n",
       "      <td>43.0</td>\n",
       "      <td>1.0</td>\n",
       "      <td>Overcast</td>\n",
       "      <td>0.197866</td>\n",
       "      <td>2</td>\n",
       "      <td>winter</td>\n",
       "    </tr>\n",
       "    <tr>\n",
       "      <th>8018</th>\n",
       "      <td>2.0</td>\n",
       "      <td>91.0</td>\n",
       "      <td>Day</td>\n",
       "      <td>40.8</td>\n",
       "      <td>-84.6</td>\n",
       "      <td>24.0</td>\n",
       "      <td>5.0</td>\n",
       "      <td>Overcast</td>\n",
       "      <td>0.315414</td>\n",
       "      <td>0</td>\n",
       "      <td>winter</td>\n",
       "    </tr>\n",
       "    <tr>\n",
       "      <th>8021</th>\n",
       "      <td>0.0</td>\n",
       "      <td>68.0</td>\n",
       "      <td>Day</td>\n",
       "      <td>34.0</td>\n",
       "      <td>-118.4</td>\n",
       "      <td>68.0</td>\n",
       "      <td>10.0</td>\n",
       "      <td>Clear</td>\n",
       "      <td>0.193432</td>\n",
       "      <td>3</td>\n",
       "      <td>autumn</td>\n",
       "    </tr>\n",
       "  </tbody>\n",
       "</table>\n",
       "</div>"
      ],
      "text/plain": [
       "      Distance(mi)  Humidity(%) Nautical_Twilight  Start_Lat  Start_Lng  \\\n",
       "8001           0.0         83.0               Day       45.4     -122.8   \n",
       "8006           0.0         46.0               Day       35.1      -80.8   \n",
       "8015           0.0         97.0               Day       35.2      -80.8   \n",
       "8018           2.0         91.0               Day       40.8      -84.6   \n",
       "8021           0.0         68.0               Day       34.0     -118.4   \n",
       "\n",
       "      Temperature(F)  Visibility(mi) Weather_Condition  Wind_Direction  \\\n",
       "8001            60.0            10.0          Overcast        0.333966   \n",
       "8006            94.0            10.0     Partly Cloudy        0.193432   \n",
       "8015            43.0             1.0          Overcast        0.197866   \n",
       "8018            24.0             5.0          Overcast        0.315414   \n",
       "8021            68.0            10.0             Clear        0.193432   \n",
       "\n",
       "      day_of_week_acc season_acc  \n",
       "8001                2     summer  \n",
       "8006                2     summer  \n",
       "8015                2     winter  \n",
       "8018                0     winter  \n",
       "8021                3     autumn  "
      ]
     },
     "execution_count": 12,
     "metadata": {},
     "output_type": "execute_result"
    }
   ],
   "source": [
    "X_df_learning.head()"
   ]
  },
  {
   "cell_type": "code",
   "execution_count": null,
   "id": "8f971d9b",
   "metadata": {},
   "outputs": [],
   "source": [
    "features_to_encode = [col for col in X_df_learning[features].columns if X_df_learning[col].dtype not in ('float64','int64')]\n",
    "\n",
    "encoder = OrdinalEncoder(cols=features_to_encode)\n",
    "encoder = encoder.fit(X_df_learning[features])\n",
    "\n",
    "X_df_learning_encoded=encoder.transform(X_df_learning)"
   ]
  },
  {
   "cell_type": "code",
   "execution_count": 14,
   "id": "1e7fc14c",
   "metadata": {},
   "outputs": [],
   "source": [
    "Xtrain, Xtest, ytrain, ytest = train_test_split(X_df_learning_encoded, y_df_learning, train_size=0.75, random_state=1)"
   ]
  },
  {
   "cell_type": "code",
   "execution_count": 15,
   "id": "d65eadcb",
   "metadata": {},
   "outputs": [],
   "source": [
    "train_pool_cat = catboost.Pool(data=Xtrain, label= ytrain, cat_features = features_to_encode)\n",
    "test_pool_cat = catboost.Pool(data=Xtest, label= ytest, cat_features = features_to_encode)"
   ]
  },
  {
   "cell_type": "code",
   "execution_count": 16,
   "id": "8bcecc82",
   "metadata": {},
   "outputs": [
    {
     "data": {
      "application/vnd.jupyter.widget-view+json": {
       "model_id": "3e4ecd32488c49faa7d4f5a345faa643",
       "version_major": 2,
       "version_minor": 0
      },
      "text/plain": [
       "MetricVisualizer(layout=Layout(align_self='stretch', height='500px'))"
      ]
     },
     "metadata": {},
     "output_type": "display_data"
    }
   ],
   "source": [
    "model = catboost.CatBoostClassifier(loss_function= \"Logloss\", eval_metric=\"Logloss\",\n",
    "                                    learning_rate=0.143852,\n",
    "                                    iterations=300,\n",
    "                                    l2_leaf_reg=15,\n",
    "                                    max_depth = 4,\n",
    "                                    use_best_model=True,\n",
    "                                    custom_loss=['Accuracy', 'AUC', 'Logloss'])\n",
    "\n",
    "model = model.fit(train_pool_cat, plot=True,eval_set=test_pool_cat, verbose=False)"
   ]
  },
  {
   "cell_type": "code",
   "execution_count": 17,
   "id": "ae73b71a",
   "metadata": {},
   "outputs": [
    {
     "name": "stdout",
     "output_type": "stream",
     "text": [
      "0.7689429564506236\n"
     ]
    }
   ],
   "source": [
    "proba = model.predict_proba(Xtest)\n",
    "print(metrics.roc_auc_score(ytest,proba[:,1]))"
   ]
  },
  {
   "cell_type": "markdown",
   "id": "f8010a48",
   "metadata": {},
   "source": [
    "## Use Eurybia for data validation"
   ]
  },
  {
   "cell_type": "code",
   "execution_count": 18,
   "id": "c7ae204e",
   "metadata": {},
   "outputs": [],
   "source": [
    "from eurybia import SmartDrift"
   ]
  },
  {
   "cell_type": "code",
   "execution_count": 19,
   "id": "f8456034",
   "metadata": {},
   "outputs": [],
   "source": [
    "SD = SmartDrift(df_current=X_df_2017,\n",
    "                df_baseline=X_df_learning,\n",
    "                deployed_model=model, # Optional: put in perspective result with importance on deployed model\n",
    "                encoding=encoder # Optional: if deployed_model and encoder to use this model\n",
    "               )"
   ]
  },
  {
   "cell_type": "code",
   "execution_count": 20,
   "id": "3d998196",
   "metadata": {},
   "outputs": [
    {
     "name": "stdout",
     "output_type": "stream",
     "text": [
      "CPU times: user 7 µs, sys: 3 µs, total: 10 µs\n",
      "Wall time: 18.4 µs\n",
      "The computed AUC on the X_test used to build datadrift_classifier is equal to: 0.6459837259371833\n"
     ]
    }
   ],
   "source": [
    "%time\n",
    "SD.compile(full_validation=True, # Optional: to save time, leave the default False value. If True, analyze consistency on modalities between columns.\n",
    "           date_compile_auc = '01/01/2017', # Optional: useful when computing the drift for a time that is not now\n",
    "           datadrift_file = \"car_accident_auc.csv\" # Optional: name of the csv file that contains the performance history of data drift\n",
    "          )\n",
    "                 "
   ]
  },
  {
   "cell_type": "markdown",
   "id": "01c2f690",
   "metadata": {},
   "source": [
    "As soon as compile() method, Eurybia displays default consistency checks as warnings.<br />\n",
    "If some modalities are not present during training and are in production dataset, the deployed model will consider them wrongly.<br />\n",
    "Inversely, if some modalities are present during training and are not in production dataset, it means that some profiles are missing."
   ]
  },
  {
   "cell_type": "markdown",
   "id": "c733b40f",
   "metadata": {},
   "source": [
    "## Add model drift in report"
   ]
  },
  {
   "cell_type": "markdown",
   "id": "ba8578c8",
   "metadata": {},
   "source": [
    "For the moment, the model drift part of eurybia only consists of displaying performance of deployed model. \n",
    "(We hope to bring new features in the future on this part)"
   ]
  },
  {
   "cell_type": "markdown",
   "id": "65e4592d",
   "metadata": {},
   "source": [
    "### Put model performance in DataFrame"
   ]
  },
  {
   "cell_type": "code",
   "execution_count": 21,
   "id": "f53935dd",
   "metadata": {},
   "outputs": [],
   "source": [
    "proba = model.predict_proba(X_df_2017)\n",
    "performance = metrics.roc_auc_score(y_df_2017,proba[:,1]).round(5)"
   ]
  },
  {
   "cell_type": "code",
   "execution_count": 22,
   "id": "4be8debb",
   "metadata": {},
   "outputs": [],
   "source": [
    "#Create Dataframe to track performance over the years\n",
    "df_performance = pd.DataFrame({'annee': [2017], 'mois':[1], 'performance': [performance]})"
   ]
  },
  {
   "cell_type": "code",
   "execution_count": 23,
   "id": "136261b6",
   "metadata": {},
   "outputs": [],
   "source": [
    "SD.add_data_modeldrift(dataset=df_performance,metric='performance') "
   ]
  },
  {
   "cell_type": "code",
   "execution_count": 24,
   "id": "af9bf77a",
   "metadata": {},
   "outputs": [
    {
     "data": {
      "text/markdown": [
       "Report saved to ./report_car_accident_modeldrift_2017.html. To upload and share your report, create a free Datapane account by running `!datapane signup`."
      ],
      "text/plain": [
       "<IPython.core.display.Markdown object>"
      ]
     },
     "metadata": {},
     "output_type": "display_data"
    }
   ],
   "source": [
    "SD.generate_report(    \n",
    "    output_file='report_car_accident_modeldrift_2017.html',    \n",
    "    title_story=\"Model drift Report\",\n",
    "    title_description=\"\"\"US Car accident model drift 2017\"\"\", # Optional: add a subtitle to describe report\n",
    "    project_info_file=\"../../eurybia/data/project_info_car_accident.yml\" # Optional: add information on report\n",
    "    )"
   ]
  },
  {
   "cell_type": "markdown",
   "id": "0aca5ec4",
   "metadata": {},
   "source": [
    "This tutorial contains only anlysis on additional features of model drift. For more detailed information on data drift, you can consult these tutorials : (https://github.com/MAIF/eurybia/tree/master/tutorial/model_drift/tutorial02-datadrift-high-datadrift.ipynb)"
   ]
  },
  {
   "cell_type": "markdown",
   "id": "6710b459",
   "metadata": {},
   "source": [
    "## Compile Drift over years"
   ]
  },
  {
   "cell_type": "markdown",
   "id": "4bd535e1",
   "metadata": {},
   "source": [
    "### Compile Drift et generate report for Year 2018"
   ]
  },
  {
   "cell_type": "code",
   "execution_count": 25,
   "id": "756c9de1",
   "metadata": {},
   "outputs": [],
   "source": [
    "SD = SmartDrift(df_current=X_df_2018,\n",
    "                df_baseline=X_df_learning,\n",
    "                deployed_model=model, # Optional: put in perspective result with importance on deployed model\n",
    "                encoding=encoder # Optional: if deployed_model and encoder to use this model\n",
    "               )"
   ]
  },
  {
   "cell_type": "code",
   "execution_count": 26,
   "id": "572b1f06",
   "metadata": {},
   "outputs": [
    {
     "name": "stdout",
     "output_type": "stream",
     "text": [
      "The computed AUC on the X_test used to build datadrift_classifier is equal to: 0.6911612512986636\n"
     ]
    }
   ],
   "source": [
    "SD.compile(full_validation=True, # Optional: to save time, leave the default False value. If True, analyze consistency on modalities between columns.\n",
    "           date_compile_auc = '01/01/2018', # Optional: useful when computing the drift for a time that is not now\n",
    "           datadrift_file = \"car_accident_auc.csv\" # Optional: name of the csv file that contains the performance history of data drift\n",
    "          )"
   ]
  },
  {
   "cell_type": "code",
   "execution_count": null,
   "id": "ecebfa0c",
   "metadata": {},
   "outputs": [],
   "source": [
    "proba = model.predict_proba(X_df_2018)\n",
    "performance = metrics.roc_auc_score(y_df_2018,proba[:,1]).round(5)\n",
    "df_performance = df_performance.append({'annee': 2018, 'mois':1, 'performance': performance}, ignore_index=True)"
   ]
  },
  {
   "cell_type": "markdown",
   "id": "810c6da6",
   "metadata": {},
   "source": [
    "### Compile Drift et generate report for Year 2019"
   ]
  },
  {
   "cell_type": "code",
   "execution_count": 28,
   "id": "0912c225",
   "metadata": {},
   "outputs": [],
   "source": [
    "SD = SmartDrift(df_current=X_df_2019,\n",
    "                df_baseline=X_df_learning,\n",
    "                deployed_model=model, # Optional: put in perspective result with importance on deployed model\n",
    "                encoding=encoder # Optional: if deployed_model and encoder to use this model\n",
    "               )"
   ]
  },
  {
   "cell_type": "code",
   "execution_count": 29,
   "id": "eacffb97",
   "metadata": {},
   "outputs": [
    {
     "name": "stdout",
     "output_type": "stream",
     "text": [
      "The computed AUC on the X_test used to build datadrift_classifier is equal to: 0.9131375742708316\n"
     ]
    }
   ],
   "source": [
    "SD.compile(full_validation=True, # Optional: to save time, leave the default False value. If True, analyze consistency on modalities between columns.\n",
    "           date_compile_auc = '01/01/2019', # Optional: useful when computing the drift for a time that is not now\n",
    "           datadrift_file = \"car_accident_auc.csv\" # Optional: name of the csv file that contains the performance history of data drift\n",
    "          )"
   ]
  },
  {
   "cell_type": "code",
   "execution_count": null,
   "id": "985c1960",
   "metadata": {},
   "outputs": [],
   "source": [
    "proba = model.predict_proba(X_df_2019)\n",
    "performance = metrics.roc_auc_score(y_df_2019,proba[:,1]).round(5)\n",
    "df_performance = df_performance.append({'annee': 2019, 'mois':1, 'performance': performance}, ignore_index=True)"
   ]
  },
  {
   "cell_type": "markdown",
   "id": "1fbd247b",
   "metadata": {},
   "source": [
    "### Compile Drift et generate report for Year 2020"
   ]
  },
  {
   "cell_type": "code",
   "execution_count": 31,
   "id": "bf363bc6",
   "metadata": {},
   "outputs": [],
   "source": [
    "SD = SmartDrift(df_current=X_df_2020,\n",
    "                df_baseline=X_df_learning,\n",
    "                deployed_model=model, # Optional: put in perspective result with importance on deployed model\n",
    "                encoding=encoder # Optional: if deployed_model and encoder to use this model\n",
    "               )"
   ]
  },
  {
   "cell_type": "code",
   "execution_count": 32,
   "id": "f7b102bf",
   "metadata": {},
   "outputs": [
    {
     "name": "stdout",
     "output_type": "stream",
     "text": [
      "The variable Weather_Condition has mismatching unique values:\n",
      "[] | ['Overcast', 'Clear', 'Scattered Clouds']\n",
      "\n",
      "The computed AUC on the X_test used to build datadrift_classifier is equal to: 0.9358807623200552\n"
     ]
    }
   ],
   "source": [
    "SD.compile(full_validation=True, # Optional: to save time, leave the default False value. If True, analyze consistency on modalities between columns.\n",
    "           date_compile_auc = '01/01/2020', # Optional: useful when computing the drift for a time that is not now\n",
    "           datadrift_file = \"car_accident_auc.csv\" # Optional: name of the csv file that contains the performance history of data drift\n",
    "          )"
   ]
  },
  {
   "cell_type": "code",
   "execution_count": null,
   "id": "2636bcb7",
   "metadata": {},
   "outputs": [],
   "source": [
    "proba = model.predict_proba(X_df_2020)\n",
    "performance = metrics.roc_auc_score(y_df_2020,proba[:,1]).round(5)\n",
    "df_performance = df_performance.append({'annee': 2020, 'mois':1, 'performance': performance}, ignore_index=True)"
   ]
  },
  {
   "cell_type": "code",
   "execution_count": 34,
   "id": "f9d09d5e",
   "metadata": {},
   "outputs": [],
   "source": [
    "SD.add_data_modeldrift(dataset=df_performance,metric='performance') "
   ]
  },
  {
   "cell_type": "code",
   "execution_count": 35,
   "id": "a936527c",
   "metadata": {},
   "outputs": [
    {
     "data": {
      "image/png": "[encoded data removed]"
     },
     "metadata": {},
     "output_type": "display_data"
    }
   ],
   "source": [
    "SD.plot.generate_historical_datadrift_metric() # works if date_compile_auc and/or datadrift_file are filled"
   ]
  },
  {
   "cell_type": "markdown",
   "id": "2324467b",
   "metadata": {},
   "source": [
    "In 2019 and 2020, data drift is very high. Is there any impact on the performance of the model?"
   ]
  },
  {
   "cell_type": "code",
   "execution_count": 36,
   "id": "64665647",
   "metadata": {},
   "outputs": [
    {
     "data": {
      "image/png": "[encoded data removed]"
     },
     "metadata": {},
     "output_type": "display_data"
    }
   ],
   "source": [
    "SD.plot.generate_modeldrift_data() # works if add_data_modeldrift used before                "
   ]
  },
  {
   "cell_type": "markdown",
   "id": "438706e2",
   "metadata": {},
   "source": [
    "While data drift was high in 2019, the impact on model performance is low. In 2020, data drift leads to a decrease in model performance"
   ]
  },
  {
   "cell_type": "code",
   "execution_count": 37,
   "id": "c9089d96",
   "metadata": {},
   "outputs": [
    {
     "data": {
      "text/markdown": [
       "Report saved to ./report_car_accident_modeldrift_2020.html. To upload and share your report, create a free Datapane account by running `!datapane signup`."
      ],
      "text/plain": [
       "<IPython.core.display.Markdown object>"
      ]
     },
     "metadata": {},
     "output_type": "display_data"
    }
   ],
   "source": [
    "SD.generate_report(    \n",
    "    output_file='report_car_accident_modeldrift_2020.html',    \n",
    "    title_story=\"Model drift Report\",\n",
    "    title_description=\"\"\"US Car accident model drift 2020\"\"\", # Optional: add a subtitle to describe report\n",
    "    project_info_file=\"../../eurybia/data/project_info_car_accident.yml\" # Optional: add information on report\n",
    "    ) "
   ]
  }
 ],
 "metadata": {
  "interpreter": {
   "hash": "13d044b7eb1183d24388c730821bfdfb708fbb1f7ef396dd9449b9735574aa76"
  },
  "kernelspec": {
   "display_name": "dev_eurybia",
   "language": "python",
   "name": "dev_eurybia"
  },
  "language_info": {
   "codemirror_mode": {
    "name": "ipython",
    "version": 3
   },
   "file_extension": ".py",
   "mimetype": "text/x-python",
   "name": "python",
   "nbconvert_exporter": "python",
   "pygments_lexer": "ipython3",
   "version": "3.9.12"
  },
  "toc": {
   "base_numbering": 1,
   "nav_menu": {},
   "number_sections": true,
   "sideBar": true,
   "skip_h1_title": false,
   "title_cell": "Table of Contents",
   "title_sidebar": "Contents",
   "toc_cell": false,
   "toc_position": {
    "height": "calc(100% - 180px)",
    "left": "10px",
    "top": "150px",
    "width": "336px"
   },
   "toc_section_display": true,
   "toc_window_display": true
  }
 },
 "nbformat": 4,
 "nbformat_minor": 5
}
