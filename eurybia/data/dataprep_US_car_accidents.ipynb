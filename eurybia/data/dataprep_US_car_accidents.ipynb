{
  "cells": [
    {
      "cell_type": "markdown",
      "id": "9140cc7d",
      "metadata": {},
      "source": [
        "# Eurybia - dataprep for US car accidents\n",
        "This notebook describes the data preparation leading to the dataset in \"US_Accidents_extract.csv\", used in some of our tutorials.  \n"
      ]
    },
    {
      "cell_type": "markdown",
      "id": "96701724",
      "metadata": {},
      "source": [
        "The original dataset was taken from the Kaggle [US car accidents dataset](https://www.kaggle.com/datasets/sobhanmoosavi/us-accidents).\n",
        "\n",
        "---\n",
        "Acknowledgements\n",
        "- Moosavi, Sobhan, Mohammad Hossein Samavatian, Srinivasan Parthasarathy, and Rajiv Ramnath. \u201cA Countrywide Traffic Accident Dataset.\u201d, 2019.\n",
        "- Moosavi, Sobhan, Mohammad Hossein Samavatian, Srinivasan Parthasarathy, Radu Teodorescu, and Rajiv Ramnath. \"Accident Risk Prediction based on Heterogeneous Sparse Data: New Dataset and Insights.\" In proceedings of the 27th ACM SIGSPATIAL International Conference on Advances in Geographic Information Systems, ACM, 2019.\n",
        "---"
      ]
    },
    {
      "cell_type": "code",
      "execution_count": 1,
      "id": "a4773b01",
      "metadata": {},
      "outputs": [],
      "source": [
        "import numpy as np\n",
        "import pandas as pd\n",
        "import matplotlib.pyplot as plt\n",
        "import seaborn as sns\n",
        "import pickle\n",
        "import category_encoders as ce"
      ]
    },
    {
      "cell_type": "markdown",
      "id": "099f6255",
      "metadata": {},
      "source": [
        "### Extract the zipped dataset if you haven't already done so"
      ]
    },
    {
      "cell_type": "code",
      "execution_count": 2,
      "id": "8339fc70",
      "metadata": {},
      "outputs": [],
      "source": [
        "# from zipfile import ZipFile\n",
        "# with ZipFile('/tmp/archive.zip', 'r') as zipObj:\n",
        "#     zipObj.extractall()"
      ]
    },
    {
      "cell_type": "markdown",
      "id": "3592a9f4",
      "metadata": {},
      "source": [
        "### Load it up"
      ]
    },
    {
      "cell_type": "code",
      "execution_count": 3,
      "id": "e2a399d4",
      "metadata": {},
      "outputs": [],
      "source": [
        "data = pd.read_csv('/tmp/US_Accidents_Dec21_updated.csv')"
      ]
    },
    {
      "cell_type": "code",
      "execution_count": 4,
      "id": "d5aa6e54",
      "metadata": {},
      "outputs": [
        {
          "name": "stdout",
          "output_type": "stream",
          "text": [
            "(2845342, 47)\n",
            "Index(['ID', 'Severity', 'Start_Time', 'End_Time', 'Start_Lat', 'Start_Lng',\n",
            "       'End_Lat', 'End_Lng', 'Distance(mi)', 'Description', 'Number', 'Street',\n",
            "       'Side', 'City', 'County', 'State', 'Zipcode', 'Country', 'Timezone',\n",
            "       'Airport_Code', 'Weather_Timestamp', 'Temperature(F)', 'Wind_Chill(F)',\n",
            "       'Humidity(%)', 'Pressure(in)', 'Visibility(mi)', 'Wind_Direction',\n",
            "       'Wind_Speed(mph)', 'Precipitation(in)', 'Weather_Condition', 'Amenity',\n",
            "       'Bump', 'Crossing', 'Give_Way', 'Junction', 'No_Exit', 'Railway',\n",
            "       'Roundabout', 'Station', 'Stop', 'Traffic_Calming', 'Traffic_Signal',\n",
            "       'Turning_Loop', 'Sunrise_Sunset', 'Civil_Twilight', 'Nautical_Twilight',\n",
            "       'Astronomical_Twilight'],\n",
            "      dtype='object')\n"
          ]
        }
      ],
      "source": [
        "print(data.shape)\n",
        "print(data.columns)"
      ]
    },
    {
      "cell_type": "code",
      "execution_count": 5,
      "id": "6975a335",
      "metadata": {},
      "outputs": [],
      "source": [
        "feats_to_keep = ['Start_Lat','Start_Lng','Distance(mi)','Temperature(F)','Humidity(%)','Visibility(mi)',\n",
        " 'day_of_week_acc','Nautical_Twilight','season_acc','target','target_multi','year_acc','Description']"
      ]
    },
    {
      "attachments": {},
      "cell_type": "markdown",
      "id": "676e1dae",
      "metadata": {},
      "source": [
        "### Create targets column  \n",
        "Here we regroup the severity modalities into two classes to create a binary target column : benign to moderate severity (<= 2) on one side, serious and above on the other (>2)"
      ]
    },
    {
      "cell_type": "code",
      "execution_count": 6,
      "id": "372047ed",
      "metadata": {},
      "outputs": [
        {
          "name": "stdout",
          "output_type": "stream",
          "text": [
            "2    2532991\n",
            "3     155105\n",
            "4     131193\n",
            "1      26053\n",
            "Name: Severity, dtype: int64\n"
          ]
        },
        {
          "data": {
            "text/plain": [
              "0    89.938011\n",
              "1    10.061989\n",
              "Name: target, dtype: float64"
            ]
          },
          "execution_count": 6,
          "metadata": {},
          "output_type": "execute_result"
        }
      ],
      "source": [
        "print(data.Severity.value_counts())\n",
        "cond = [data.Severity <= 2]\n",
        "choice = ['0']\n",
        "data['target'] = np.select(cond, choice, default = '1')\n",
        "data['target'].value_counts(normalize = True)*100"
      ]
    },
    {
      "cell_type": "code",
      "execution_count": 7,
      "id": "c7b625ad",
      "metadata": {},
      "outputs": [],
      "source": [
        "data = data.rename(columns={'Severity':'target_multi'})"
      ]
    },
    {
      "cell_type": "markdown",
      "id": "938c88cf",
      "metadata": {},
      "source": [
        "### Rework the dates  \n",
        "Here we build a \"day of week\", a \"season\" and a \"year\" feature. This will help us detect and analyze bias or trends that occur on those timescales.  \n",
        "For example, we can then measure the drift between two same seasons of consecutive years to avoid seasonal bias.  \n",
        "We could also aggregate by year and mesure the drift from year to year."
      ]
    },
    {
      "cell_type": "code",
      "execution_count": 8,
      "id": "a3566f02",
      "metadata": {},
      "outputs": [],
      "source": [
        "date = ['Start_Time', 'End_Time']\n",
        "for d in date:\n",
        "    data[d] = pd.to_datetime(data[d])"
      ]
    },
    {
      "cell_type": "code",
      "execution_count": 9,
      "id": "19eae7e4",
      "metadata": {},
      "outputs": [],
      "source": [
        "data['month_acc'] = data['Start_Time'].dt.month\n",
        "data['day_of_week_acc'] = data['Start_Time'].dt.dayofweek\n",
        "data['year_acc'] = data['Start_Time'].dt.year\n",
        "cond = [data.month_acc.isin([12,1,2]), \n",
        "       data.month_acc.isin([3,4,5]), \n",
        "       data.month_acc.isin([6,7,8]), \n",
        "       data.month_acc.isin([9,10,11])]\n",
        "choix = ['winter','spring','summer','autumn']\n",
        "data['season_acc'] = np.select(cond, choix, default = 'NR')"
      ]
    },
    {
      "cell_type": "markdown",
      "id": "2de1cdeb",
      "metadata": {},
      "source": [
        "### Managing missing values  \n",
        "The following short analysis, using the \"year\" feature we just created, lets us see how the ratio of missing values evolved over time.  "
      ]
    },
    {
      "cell_type": "code",
      "execution_count": 10,
      "id": "b8516a2a",
      "metadata": {},
      "outputs": [],
      "source": [
        "missing_val = pd.DataFrame()\n",
        "year = np.unique(data.year_acc)\n",
        "for y in year:\n",
        "    sub = data[data.year_acc == y]\n",
        "    missing_val_y = pd.DataFrame(sub.isnull().sum().sort_values(ascending=False)/sub.shape[0]*100)\n",
        "    missing_val_y.columns = ['taux_miss_'+str(y)]\n",
        "    missing_val = pd.concat([missing_val, missing_val_y], axis = 1)"
      ]
    },
    {
      "cell_type": "code",
      "execution_count": 11,
      "id": "8e176f6f",
      "metadata": {},
      "outputs": [
        {
          "data": {
            "text/html": [
              "<div>\n",
              "<style scoped>\n",
              "    .dataframe tbody tr th:only-of-type {\n",
              "        vertical-align: middle;\n",
              "    }\n",
              "\n",
              "    .dataframe tbody tr th {\n",
              "        vertical-align: top;\n",
              "    }\n",
              "\n",
              "    .dataframe thead th {\n",
              "        text-align: right;\n",
              "    }\n",
              "</style>\n",
              "<table border=\"1\" class=\"dataframe\">\n",
              "  <thead>\n",
              "    <tr style=\"text-align: right;\">\n",
              "      <th></th>\n",
              "      <th>taux_miss_2016</th>\n",
              "      <th>taux_miss_2017</th>\n",
              "      <th>taux_miss_2018</th>\n",
              "      <th>taux_miss_2019</th>\n",
              "      <th>taux_miss_2020</th>\n",
              "      <th>taux_miss_2021</th>\n",
              "    </tr>\n",
              "  </thead>\n",
              "  <tbody>\n",
              "    <tr>\n",
              "      <th>Precipitation(in)</th>\n",
              "      <td>89.891333</td>\n",
              "      <td>86.925170</td>\n",
              "      <td>85.587341</td>\n",
              "      <td>20.893606</td>\n",
              "      <td>6.218763</td>\n",
              "      <td>4.277838</td>\n",
              "    </tr>\n",
              "    <tr>\n",
              "      <th>Wind_Chill(F)</th>\n",
              "      <td>87.970399</td>\n",
              "      <td>82.553472</td>\n",
              "      <td>77.963058</td>\n",
              "      <td>12.703439</td>\n",
              "      <td>3.912991</td>\n",
              "      <td>2.805896</td>\n",
              "    </tr>\n",
              "    <tr>\n",
              "      <th>Number</th>\n",
              "      <td>80.749689</td>\n",
              "      <td>80.031479</td>\n",
              "      <td>78.591827</td>\n",
              "      <td>74.640295</td>\n",
              "      <td>62.027853</td>\n",
              "      <td>53.230340</td>\n",
              "    </tr>\n",
              "    <tr>\n",
              "      <th>Wind_Speed(mph)</th>\n",
              "      <td>17.975152</td>\n",
              "      <td>16.970070</td>\n",
              "      <td>18.992989</td>\n",
              "      <td>6.567291</td>\n",
              "      <td>3.490694</td>\n",
              "      <td>2.538126</td>\n",
              "    </tr>\n",
              "    <tr>\n",
              "      <th>Visibility(mi)</th>\n",
              "      <td>2.394611</td>\n",
              "      <td>2.698300</td>\n",
              "      <td>2.952640</td>\n",
              "      <td>2.733020</td>\n",
              "      <td>3.012476</td>\n",
              "      <td>2.147254</td>\n",
              "    </tr>\n",
              "    <tr>\n",
              "      <th>Weather_Condition</th>\n",
              "      <td>2.369206</td>\n",
              "      <td>2.725143</td>\n",
              "      <td>3.046404</td>\n",
              "      <td>2.763954</td>\n",
              "      <td>2.964861</td>\n",
              "      <td>2.156647</td>\n",
              "    </tr>\n",
              "    <tr>\n",
              "      <th>Humidity(%)</th>\n",
              "      <td>2.216777</td>\n",
              "      <td>2.360327</td>\n",
              "      <td>2.686057</td>\n",
              "      <td>2.867196</td>\n",
              "      <td>3.268442</td>\n",
              "      <td>2.266520</td>\n",
              "    </tr>\n",
              "    <tr>\n",
              "      <th>Temperature(F)</th>\n",
              "      <td>2.090572</td>\n",
              "      <td>2.267597</td>\n",
              "      <td>2.572069</td>\n",
              "      <td>2.759314</td>\n",
              "      <td>3.066161</td>\n",
              "      <td>2.148709</td>\n",
              "    </tr>\n",
              "    <tr>\n",
              "      <th>Pressure(in)</th>\n",
              "      <td>1.639841</td>\n",
              "      <td>1.966227</td>\n",
              "      <td>2.461146</td>\n",
              "      <td>2.200955</td>\n",
              "      <td>2.567011</td>\n",
              "      <td>1.865526</td>\n",
              "    </tr>\n",
              "    <tr>\n",
              "      <th>Wind_Direction</th>\n",
              "      <td>0.926867</td>\n",
              "      <td>1.159116</td>\n",
              "      <td>1.662622</td>\n",
              "      <td>3.013746</td>\n",
              "      <td>3.493251</td>\n",
              "      <td>2.538391</td>\n",
              "    </tr>\n",
              "    <tr>\n",
              "      <th>Weather_Timestamp</th>\n",
              "      <td>0.917033</td>\n",
              "      <td>1.153016</td>\n",
              "      <td>1.657106</td>\n",
              "      <td>1.910175</td>\n",
              "      <td>2.354026</td>\n",
              "      <td>1.676870</td>\n",
              "    </tr>\n",
              "    <tr>\n",
              "      <th>Airport_Code</th>\n",
              "      <td>0.157346</td>\n",
              "      <td>0.165937</td>\n",
              "      <td>0.337059</td>\n",
              "      <td>0.351874</td>\n",
              "      <td>0.276258</td>\n",
              "      <td>0.390013</td>\n",
              "    </tr>\n",
              "    <tr>\n",
              "      <th>Timezone</th>\n",
              "      <td>0.072936</td>\n",
              "      <td>0.081748</td>\n",
              "      <td>0.199784</td>\n",
              "      <td>0.284980</td>\n",
              "      <td>0.125427</td>\n",
              "      <td>0.105044</td>\n",
              "    </tr>\n",
              "    <tr>\n",
              "      <th>Zipcode</th>\n",
              "      <td>0.062283</td>\n",
              "      <td>0.066497</td>\n",
              "      <td>0.090700</td>\n",
              "      <td>0.082362</td>\n",
              "      <td>0.041223</td>\n",
              "      <td>0.034067</td>\n",
              "    </tr>\n",
              "    <tr>\n",
              "      <th>Nautical_Twilight</th>\n",
              "      <td>0.010654</td>\n",
              "      <td>0.009151</td>\n",
              "      <td>0.003064</td>\n",
              "      <td>0.001933</td>\n",
              "      <td>0.006711</td>\n",
              "      <td>0.184356</td>\n",
              "    </tr>\n",
              "    <tr>\n",
              "      <th>City</th>\n",
              "      <td>0.010654</td>\n",
              "      <td>0.009151</td>\n",
              "      <td>0.003064</td>\n",
              "      <td>0.001933</td>\n",
              "      <td>0.006072</td>\n",
              "      <td>0.004035</td>\n",
              "    </tr>\n",
              "    <tr>\n",
              "      <th>Sunrise_Sunset</th>\n",
              "      <td>0.010654</td>\n",
              "      <td>0.009151</td>\n",
              "      <td>0.003064</td>\n",
              "      <td>0.001933</td>\n",
              "      <td>0.006711</td>\n",
              "      <td>0.184356</td>\n",
              "    </tr>\n",
              "    <tr>\n",
              "      <th>Civil_Twilight</th>\n",
              "      <td>0.010654</td>\n",
              "      <td>0.009151</td>\n",
              "      <td>0.003064</td>\n",
              "      <td>0.001933</td>\n",
              "      <td>0.006711</td>\n",
              "      <td>0.184356</td>\n",
              "    </tr>\n",
              "    <tr>\n",
              "      <th>Astronomical_Twilight</th>\n",
              "      <td>0.010654</td>\n",
              "      <td>0.009151</td>\n",
              "      <td>0.003064</td>\n",
              "      <td>0.001933</td>\n",
              "      <td>0.006711</td>\n",
              "      <td>0.184356</td>\n",
              "    </tr>\n",
              "    <tr>\n",
              "      <th>Street</th>\n",
              "      <td>0.000000</td>\n",
              "      <td>0.000000</td>\n",
              "      <td>0.000000</td>\n",
              "      <td>0.000000</td>\n",
              "      <td>0.000000</td>\n",
              "      <td>0.000132</td>\n",
              "    </tr>\n",
              "  </tbody>\n",
              "</table>\n",
              "</div>"
            ],
            "text/plain": [
              "                       taux_miss_2016  taux_miss_2017  taux_miss_2018  \\\n",
              "Precipitation(in)           89.891333       86.925170       85.587341   \n",
              "Wind_Chill(F)               87.970399       82.553472       77.963058   \n",
              "Number                      80.749689       80.031479       78.591827   \n",
              "Wind_Speed(mph)             17.975152       16.970070       18.992989   \n",
              "Visibility(mi)               2.394611        2.698300        2.952640   \n",
              "Weather_Condition            2.369206        2.725143        3.046404   \n",
              "Humidity(%)                  2.216777        2.360327        2.686057   \n",
              "Temperature(F)               2.090572        2.267597        2.572069   \n",
              "Pressure(in)                 1.639841        1.966227        2.461146   \n",
              "Wind_Direction               0.926867        1.159116        1.662622   \n",
              "Weather_Timestamp            0.917033        1.153016        1.657106   \n",
              "Airport_Code                 0.157346        0.165937        0.337059   \n",
              "Timezone                     0.072936        0.081748        0.199784   \n",
              "Zipcode                      0.062283        0.066497        0.090700   \n",
              "Nautical_Twilight            0.010654        0.009151        0.003064   \n",
              "City                         0.010654        0.009151        0.003064   \n",
              "Sunrise_Sunset               0.010654        0.009151        0.003064   \n",
              "Civil_Twilight               0.010654        0.009151        0.003064   \n",
              "Astronomical_Twilight        0.010654        0.009151        0.003064   \n",
              "Street                       0.000000        0.000000        0.000000   \n",
              "\n",
              "                       taux_miss_2019  taux_miss_2020  taux_miss_2021  \n",
              "Precipitation(in)           20.893606        6.218763        4.277838  \n",
              "Wind_Chill(F)               12.703439        3.912991        2.805896  \n",
              "Number                      74.640295       62.027853       53.230340  \n",
              "Wind_Speed(mph)              6.567291        3.490694        2.538126  \n",
              "Visibility(mi)               2.733020        3.012476        2.147254  \n",
              "Weather_Condition            2.763954        2.964861        2.156647  \n",
              "Humidity(%)                  2.867196        3.268442        2.266520  \n",
              "Temperature(F)               2.759314        3.066161        2.148709  \n",
              "Pressure(in)                 2.200955        2.567011        1.865526  \n",
              "Wind_Direction               3.013746        3.493251        2.538391  \n",
              "Weather_Timestamp            1.910175        2.354026        1.676870  \n",
              "Airport_Code                 0.351874        0.276258        0.390013  \n",
              "Timezone                     0.284980        0.125427        0.105044  \n",
              "Zipcode                      0.082362        0.041223        0.034067  \n",
              "Nautical_Twilight            0.001933        0.006711        0.184356  \n",
              "City                         0.001933        0.006072        0.004035  \n",
              "Sunrise_Sunset               0.001933        0.006711        0.184356  \n",
              "Civil_Twilight               0.001933        0.006711        0.184356  \n",
              "Astronomical_Twilight        0.001933        0.006711        0.184356  \n",
              "Street                       0.000000        0.000000        0.000132  "
            ]
          },
          "execution_count": 11,
          "metadata": {},
          "output_type": "execute_result"
        }
      ],
      "source": [
        "missing_val['filtre'] = missing_val.taux_miss_2016+missing_val.taux_miss_2017+missing_val.taux_miss_2018+missing_val.taux_miss_2019+missing_val.taux_miss_2020+missing_val.taux_miss_2021\n",
        "missing_val[missing_val.filtre > 0][['taux_miss_2016','taux_miss_2017','taux_miss_2018','taux_miss_2019','taux_miss_2020','taux_miss_2021']]"
      ]
    },
    {
      "cell_type": "markdown",
      "id": "2c9f89bf",
      "metadata": {},
      "source": [
        "$\\require{color}$\n",
        "$\\colorbox{red}{The percentage of missing values, aggregated by year, is far from constant. This is a preliminary sign of data drift.}$"
      ]
    },
    {
      "cell_type": "code",
      "execution_count": 12,
      "id": "eee9e18c",
      "metadata": {},
      "outputs": [],
      "source": [
        "data = data.dropna(subset=[\"Nautical_Twilight\"])"
      ]
    },
    {
      "cell_type": "markdown",
      "id": "7690ac29",
      "metadata": {},
      "source": [
        "### Final dataset features"
      ]
    },
    {
      "cell_type": "code",
      "execution_count": 13,
      "id": "d8713d00",
      "metadata": {},
      "outputs": [],
      "source": [
        "data = data[feats_to_keep]"
      ]
    },
    {
      "cell_type": "markdown",
      "id": "72e2beca",
      "metadata": {},
      "source": [
        "### Quantitative features  "
      ]
    },
    {
      "cell_type": "code",
      "execution_count": 14,
      "id": "d075f53f",
      "metadata": {},
      "outputs": [],
      "source": [
        "for v in ['Distance(mi)','Temperature(F)','Humidity(%)','Visibility(mi)']:\n",
        "    data[v] = np.round(data[v],0)"
      ]
    },
    {
      "cell_type": "code",
      "execution_count": 15,
      "id": "3d90b58e",
      "metadata": {},
      "outputs": [],
      "source": [
        "data['Start_Lat'] = np.round(data['Start_Lat'],1)\n",
        "data['Start_Lng'] = np.round(data['Start_Lng'],1)"
      ]
    },
    {
      "cell_type": "markdown",
      "id": "ac192b04",
      "metadata": {},
      "source": [
        "### Sampling  \n",
        "For the purpose of our tutorials, a sample size of ~50000 is sufficient.  \n",
        "The following few steps reduce the sample size down to about this number, and balance the number of samples per year, in an effort to reduce this source of bias before training a model or producing a quantitative analysis."
      ]
    },
    {
      "cell_type": "code",
      "execution_count": 16,
      "id": "c97d715f",
      "metadata": {},
      "outputs": [],
      "source": [
        "sampled_data = pd.DataFrame()\n",
        "annee = np.unique(data.year_acc)\n",
        "for a in annee:\n",
        "    sub = data[data.year_acc == a]\n",
        "    sub = sub.reset_index(drop = True)\n",
        "    tir = np.random.choice(a = sub.shape[0], size = 50000//len(annee)+1, replace = False)\n",
        "    sampled_data = pd.concat([sampled_data, sub.iloc[tir,:]], axis = 0)\n",
        "    sampled_data = sampled_data.reset_index(drop = True)"
      ]
    },
    {
      "cell_type": "code",
      "execution_count": 17,
      "id": "82247c82",
      "metadata": {},
      "outputs": [],
      "source": [
        "sampled_data = sampled_data.iloc[np.random.choice(size = 50000, a = sampled_data.index, replace = False),:]\n",
        "sampled_data = sampled_data.reset_index(drop  = True)"
      ]
    },
    {
      "cell_type": "markdown",
      "id": "62f6cb9c",
      "metadata": {},
      "source": [
        "### Let us have a final look at our data :"
      ]
    },
    {
      "cell_type": "code",
      "execution_count": 18,
      "id": "990107c2",
      "metadata": {
        "scrolled": true
      },
      "outputs": [
        {
          "data": {
            "text/html": [
              "<div>\n",
              "<style scoped>\n",
              "    .dataframe tbody tr th:only-of-type {\n",
              "        vertical-align: middle;\n",
              "    }\n",
              "\n",
              "    .dataframe tbody tr th {\n",
              "        vertical-align: top;\n",
              "    }\n",
              "\n",
              "    .dataframe thead th {\n",
              "        text-align: right;\n",
              "    }\n",
              "</style>\n",
              "<table border=\"1\" class=\"dataframe\">\n",
              "  <thead>\n",
              "    <tr style=\"text-align: right;\">\n",
              "      <th></th>\n",
              "      <th>Start_Lat</th>\n",
              "      <th>Start_Lng</th>\n",
              "      <th>Distance(mi)</th>\n",
              "      <th>Temperature(F)</th>\n",
              "      <th>Humidity(%)</th>\n",
              "      <th>Visibility(mi)</th>\n",
              "      <th>day_of_week_acc</th>\n",
              "      <th>Nautical_Twilight</th>\n",
              "      <th>season_acc</th>\n",
              "      <th>target</th>\n",
              "      <th>target_multi</th>\n",
              "      <th>year_acc</th>\n",
              "      <th>Description</th>\n",
              "    </tr>\n",
              "  </thead>\n",
              "  <tbody>\n",
              "    <tr>\n",
              "      <th>0</th>\n",
              "      <td>33.0</td>\n",
              "      <td>-117.1</td>\n",
              "      <td>0.0</td>\n",
              "      <td>40.0</td>\n",
              "      <td>93.0</td>\n",
              "      <td>2.0</td>\n",
              "      <td>3</td>\n",
              "      <td>Day</td>\n",
              "      <td>winter</td>\n",
              "      <td>0</td>\n",
              "      <td>2</td>\n",
              "      <td>2019</td>\n",
              "      <td>At Carmel Mountain Rd - Accident.</td>\n",
              "    </tr>\n",
              "    <tr>\n",
              "      <th>1</th>\n",
              "      <td>29.5</td>\n",
              "      <td>-98.5</td>\n",
              "      <td>0.0</td>\n",
              "      <td>83.0</td>\n",
              "      <td>65.0</td>\n",
              "      <td>10.0</td>\n",
              "      <td>4</td>\n",
              "      <td>Day</td>\n",
              "      <td>summer</td>\n",
              "      <td>1</td>\n",
              "      <td>3</td>\n",
              "      <td>2017</td>\n",
              "      <td>At TX-345-SP/Woodlawn Ave/Exit 567B - Accident.</td>\n",
              "    </tr>\n",
              "    <tr>\n",
              "      <th>2</th>\n",
              "      <td>32.7</td>\n",
              "      <td>-96.8</td>\n",
              "      <td>0.0</td>\n",
              "      <td>88.0</td>\n",
              "      <td>57.0</td>\n",
              "      <td>10.0</td>\n",
              "      <td>0</td>\n",
              "      <td>Night</td>\n",
              "      <td>summer</td>\n",
              "      <td>0</td>\n",
              "      <td>2</td>\n",
              "      <td>2021</td>\n",
              "      <td>Incident on RUGGED DR near BERKLEY AVE Expect ...</td>\n",
              "    </tr>\n",
              "  </tbody>\n",
              "</table>\n",
              "</div>"
            ],
            "text/plain": [
              "   Start_Lat  Start_Lng  Distance(mi)  Temperature(F)  Humidity(%)  \\\n",
              "0       33.0     -117.1           0.0            40.0         93.0   \n",
              "1       29.5      -98.5           0.0            83.0         65.0   \n",
              "2       32.7      -96.8           0.0            88.0         57.0   \n",
              "\n",
              "   Visibility(mi)  day_of_week_acc Nautical_Twilight season_acc target  \\\n",
              "0             2.0                3               Day     winter      0   \n",
              "1            10.0                4               Day     summer      1   \n",
              "2            10.0                0             Night     summer      0   \n",
              "\n",
              "   target_multi  year_acc                                        Description  \n",
              "0             2      2019                  At Carmel Mountain Rd - Accident.  \n",
              "1             3      2017    At TX-345-SP/Woodlawn Ave/Exit 567B - Accident.  \n",
              "2             2      2021  Incident on RUGGED DR near BERKLEY AVE Expect ...  "
            ]
          },
          "execution_count": 18,
          "metadata": {},
          "output_type": "execute_result"
        }
      ],
      "source": [
        "sampled_data.head(3)"
      ]
    },
    {
      "cell_type": "code",
      "execution_count": 19,
      "id": "6bbefb6b",
      "metadata": {
        "scrolled": true
      },
      "outputs": [
        {
          "data": {
            "text/html": [
              "<div>\n",
              "<style scoped>\n",
              "    .dataframe tbody tr th:only-of-type {\n",
              "        vertical-align: middle;\n",
              "    }\n",
              "\n",
              "    .dataframe tbody tr th {\n",
              "        vertical-align: top;\n",
              "    }\n",
              "\n",
              "    .dataframe thead th {\n",
              "        text-align: right;\n",
              "    }\n",
              "</style>\n",
              "<table border=\"1\" class=\"dataframe\">\n",
              "  <thead>\n",
              "    <tr style=\"text-align: right;\">\n",
              "      <th></th>\n",
              "      <th>Start_Lat</th>\n",
              "      <th>Start_Lng</th>\n",
              "      <th>Distance(mi)</th>\n",
              "      <th>Temperature(F)</th>\n",
              "      <th>Humidity(%)</th>\n",
              "      <th>Visibility(mi)</th>\n",
              "      <th>day_of_week_acc</th>\n",
              "      <th>target_multi</th>\n",
              "      <th>year_acc</th>\n",
              "    </tr>\n",
              "  </thead>\n",
              "  <tbody>\n",
              "    <tr>\n",
              "      <th>count</th>\n",
              "      <td>50000.000000</td>\n",
              "      <td>50000.000000</td>\n",
              "      <td>50000.000000</td>\n",
              "      <td>48753.000000</td>\n",
              "      <td>48682.00000</td>\n",
              "      <td>48675.000000</td>\n",
              "      <td>50000.000000</td>\n",
              "      <td>50000.000000</td>\n",
              "      <td>50000.00000</td>\n",
              "    </tr>\n",
              "    <tr>\n",
              "      <th>mean</th>\n",
              "      <td>37.039702</td>\n",
              "      <td>-98.101712</td>\n",
              "      <td>0.616060</td>\n",
              "      <td>61.274937</td>\n",
              "      <td>64.19005</td>\n",
              "      <td>9.188290</td>\n",
              "      <td>2.552960</td>\n",
              "      <td>2.294080</td>\n",
              "      <td>2018.49996</td>\n",
              "    </tr>\n",
              "    <tr>\n",
              "      <th>std</th>\n",
              "      <td>5.134426</td>\n",
              "      <td>18.374657</td>\n",
              "      <td>1.756289</td>\n",
              "      <td>18.673054</td>\n",
              "      <td>22.95887</td>\n",
              "      <td>3.063803</td>\n",
              "      <td>1.790681</td>\n",
              "      <td>0.635079</td>\n",
              "      <td>1.70787</td>\n",
              "    </tr>\n",
              "    <tr>\n",
              "      <th>min</th>\n",
              "      <td>24.800000</td>\n",
              "      <td>-124.500000</td>\n",
              "      <td>0.000000</td>\n",
              "      <td>-19.000000</td>\n",
              "      <td>3.00000</td>\n",
              "      <td>0.000000</td>\n",
              "      <td>0.000000</td>\n",
              "      <td>1.000000</td>\n",
              "      <td>2016.00000</td>\n",
              "    </tr>\n",
              "    <tr>\n",
              "      <th>25%</th>\n",
              "      <td>33.900000</td>\n",
              "      <td>-118.200000</td>\n",
              "      <td>0.000000</td>\n",
              "      <td>49.000000</td>\n",
              "      <td>48.00000</td>\n",
              "      <td>10.000000</td>\n",
              "      <td>1.000000</td>\n",
              "      <td>2.000000</td>\n",
              "      <td>2017.00000</td>\n",
              "    </tr>\n",
              "    <tr>\n",
              "      <th>50%</th>\n",
              "      <td>37.500000</td>\n",
              "      <td>-93.700000</td>\n",
              "      <td>0.000000</td>\n",
              "      <td>63.000000</td>\n",
              "      <td>66.00000</td>\n",
              "      <td>10.000000</td>\n",
              "      <td>2.000000</td>\n",
              "      <td>2.000000</td>\n",
              "      <td>2018.50000</td>\n",
              "    </tr>\n",
              "    <tr>\n",
              "      <th>75%</th>\n",
              "      <td>40.800000</td>\n",
              "      <td>-81.000000</td>\n",
              "      <td>1.000000</td>\n",
              "      <td>75.000000</td>\n",
              "      <td>83.00000</td>\n",
              "      <td>10.000000</td>\n",
              "      <td>4.000000</td>\n",
              "      <td>2.000000</td>\n",
              "      <td>2020.00000</td>\n",
              "    </tr>\n",
              "    <tr>\n",
              "      <th>max</th>\n",
              "      <td>49.000000</td>\n",
              "      <td>-67.800000</td>\n",
              "      <td>100.000000</td>\n",
              "      <td>118.000000</td>\n",
              "      <td>100.00000</td>\n",
              "      <td>100.000000</td>\n",
              "      <td>6.000000</td>\n",
              "      <td>4.000000</td>\n",
              "      <td>2021.00000</td>\n",
              "    </tr>\n",
              "  </tbody>\n",
              "</table>\n",
              "</div>"
            ],
            "text/plain": [
              "          Start_Lat     Start_Lng  Distance(mi)  Temperature(F)  Humidity(%)  \\\n",
              "count  50000.000000  50000.000000  50000.000000    48753.000000  48682.00000   \n",
              "mean      37.039702    -98.101712      0.616060       61.274937     64.19005   \n",
              "std        5.134426     18.374657      1.756289       18.673054     22.95887   \n",
              "min       24.800000   -124.500000      0.000000      -19.000000      3.00000   \n",
              "25%       33.900000   -118.200000      0.000000       49.000000     48.00000   \n",
              "50%       37.500000    -93.700000      0.000000       63.000000     66.00000   \n",
              "75%       40.800000    -81.000000      1.000000       75.000000     83.00000   \n",
              "max       49.000000    -67.800000    100.000000      118.000000    100.00000   \n",
              "\n",
              "       Visibility(mi)  day_of_week_acc  target_multi     year_acc  \n",
              "count    48675.000000     50000.000000  50000.000000  50000.00000  \n",
              "mean         9.188290         2.552960      2.294080   2018.49996  \n",
              "std          3.063803         1.790681      0.635079      1.70787  \n",
              "min          0.000000         0.000000      1.000000   2016.00000  \n",
              "25%         10.000000         1.000000      2.000000   2017.00000  \n",
              "50%         10.000000         2.000000      2.000000   2018.50000  \n",
              "75%         10.000000         4.000000      2.000000   2020.00000  \n",
              "max        100.000000         6.000000      4.000000   2021.00000  "
            ]
          },
          "execution_count": 19,
          "metadata": {},
          "output_type": "execute_result"
        }
      ],
      "source": [
        "sampled_data.describe()"
      ]
    },
    {
      "cell_type": "markdown",
      "id": "61d45a70",
      "metadata": {},
      "source": [
        "### Write the sample to disk"
      ]
    },
    {
      "cell_type": "code",
      "execution_count": 22,
      "id": "1c8de28d",
      "metadata": {},
      "outputs": [],
      "source": [
        "# sampled_data.to_csv('US_Accidents_extract.csv', index = False)"
      ]
    }
  ],
  "metadata": {
    "kernelspec": {
      "display_name": "eurybia_3_9",
      "language": "python",
      "name": "python3"
    },
    "language_info": {
      "codemirror_mode": {
        "name": "ipython",
        "version": 3
      },
      "file_extension": ".py",
      "mimetype": "text/x-python",
      "name": "python",
      "nbconvert_exporter": "python",
      "pygments_lexer": "ipython3",
      "version": "3.9.16"
    },
    "vscode": {
      "interpreter": {
        "hash": "36c4204cc0170e083c18487e195263df35fcafba9d65a5415ab6b0958d51e154"
      }
    }
  },
  "nbformat": 4,
  "nbformat_minor": 5
}
