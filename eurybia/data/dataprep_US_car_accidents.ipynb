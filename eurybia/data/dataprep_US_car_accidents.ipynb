{
 "cells": [
  {
   "cell_type": "markdown",
   "id": "9140cc7d",
   "metadata": {},
   "source": [
    "# Eurybia - dataprep for US car accidents\n",
    "This notebook describes the data preparation leading to the dataset in \"US_Accidents_extract.csv\", used in some of our tutorials.  \n"
   ]
  },
  {
   "cell_type": "markdown",
   "id": "96701724",
   "metadata": {},
   "source": [
    "The original dataset was taken from the Kaggle [US car accidents dataset](https://www.kaggle.com/datasets/sobhanmoosavi/us-accidents).\n",
    "\n",
    "---\n",
    "Acknowledgements\n",
    "- Moosavi, Sobhan, Mohammad Hossein Samavatian, Srinivasan Parthasarathy, and Rajiv Ramnath. “A Countrywide Traffic Accident Dataset.”, 2019.\n",
    "- Moosavi, Sobhan, Mohammad Hossein Samavatian, Srinivasan Parthasarathy, Radu Teodorescu, and Rajiv Ramnath. \"Accident Risk Prediction based on Heterogeneous Sparse Data: New Dataset and Insights.\" In proceedings of the 27th ACM SIGSPATIAL International Conference on Advances in Geographic Information Systems, ACM, 2019.\n",
    "---"
   ]
  },
  {
   "cell_type": "code",
   "execution_count": 3,
   "id": "a4773b01",
   "metadata": {},
   "outputs": [],
   "source": [
    "import numpy as np\n",
    "import pandas as pd\n",
    "import matplotlib.pyplot as plt\n",
    "import seaborn as sns\n",
    "import pickle\n",
    "import category_encoders as ce"
   ]
  },
  {
   "cell_type": "markdown",
   "id": "099f6255",
   "metadata": {},
   "source": [
    "### Extract the zipped dataset if you haven't already done so"
   ]
  },
  {
   "cell_type": "code",
   "execution_count": 2,
   "id": "8339fc70",
   "metadata": {},
   "outputs": [],
   "source": [
    "# from zipfile import ZipFile\n",
    "# with ZipFile('/tmp/archive.zip', 'r') as zipObj:\n",
    "#     zipObj.extractall()"
   ]
  },
  {
   "cell_type": "markdown",
   "id": "3592a9f4",
   "metadata": {},
   "source": [
    "### Load it up"
   ]
  },
  {
   "cell_type": "code",
   "execution_count": null,
   "id": "e2a399d4",
   "metadata": {},
   "outputs": [],
   "source": [
    "data = pd.read_csv('/tmp/US_Accidents_Dec20_updated.csv')"
   ]
  },
  {
   "cell_type": "code",
   "execution_count": null,
   "id": "d5aa6e54",
   "metadata": {},
   "outputs": [],
   "source": [
    "print(data.shape)\n",
    "print(data.columns)"
   ]
  },
  {
   "cell_type": "code",
   "execution_count": 5,
   "id": "6975a335",
   "metadata": {},
   "outputs": [],
   "source": [
    "feats_to_keep = ['Start_Lat','Start_Lng','Distance(mi)','Temperature(F)','Humidity(%)','Visibility(mi)',\n",
    " 'Wind_Direction','Weather_Condition','day_of_week_acc','Nautical_Twilight','season_acc','cible','year_acc']"
   ]
  },
  {
   "cell_type": "markdown",
   "id": "676e1dae",
   "metadata": {},
   "source": [
    "### Create a target column  \n",
    "Here we regroup the severity modalities into two classes : benign to moderate severity (<= 2) on one side, serious and above on the other (>2)"
   ]
  },
  {
   "cell_type": "code",
   "execution_count": 6,
   "id": "372047ed",
   "metadata": {},
   "outputs": [
    {
     "name": "stdout",
     "output_type": "stream",
     "text": [
      "2    1212382\n",
      "3     161052\n",
      "4     114452\n",
      "1      28178\n",
      "Name: Severity, dtype: int64\n"
     ]
    },
    {
     "data": {
      "text/plain": [
       "0    81.82768\n",
       "1    18.17232\n",
       "Name: cible, dtype: float64"
      ]
     },
     "execution_count": 6,
     "metadata": {},
     "output_type": "execute_result"
    }
   ],
   "source": [
    "print(data.Severity.value_counts())\n",
    "cond = [data.Severity <= 2]\n",
    "choice = ['0']\n",
    "data['cible'] = np.select(cond, choice, default = '1')\n",
    "data['cible'].value_counts(normalize = True)*100"
   ]
  },
  {
   "cell_type": "markdown",
   "id": "938c88cf",
   "metadata": {},
   "source": [
    "### Rework the dates  \n",
    "Here we build a \"day of week\", a \"season\" and a \"year\" feature. This will help us detect and analyze bias or trends that occur on those timescales.  \n",
    "For example, we can then measure the drift between two same seasons of consecutive years to avoid seasonal bias.  \n",
    "We could also aggregate by year and mesure the drift from year to year."
   ]
  },
  {
   "cell_type": "code",
   "execution_count": 7,
   "id": "a3566f02",
   "metadata": {},
   "outputs": [],
   "source": [
    "date = ['Start_Time', 'End_Time']\n",
    "for d in date:\n",
    "    data[d] = pd.to_datetime(data[d])"
   ]
  },
  {
   "cell_type": "code",
   "execution_count": 8,
   "id": "19eae7e4",
   "metadata": {},
   "outputs": [],
   "source": [
    "data['month_acc'] = data['Start_Time'].dt.month\n",
    "data['day_of_week_acc'] = data['Start_Time'].dt.dayofweek\n",
    "data['year_acc'] = data['Start_Time'].dt.year\n",
    "cond = [data.month_acc.isin([12,1,2]), \n",
    "       data.month_acc.isin([3,4,5]), \n",
    "       data.month_acc.isin([6,7,8]), \n",
    "       data.month_acc.isin([9,10,11])]\n",
    "choix = ['winter','spring','summer','autumn']\n",
    "data['season_acc'] = np.select(cond, choix, default = 'NR')"
   ]
  },
  {
   "cell_type": "markdown",
   "id": "2de1cdeb",
   "metadata": {},
   "source": [
    "### Managing missing values  \n",
    "The following short analysis, using the \"year\" feature we just created, lets us see how the ratio of missing values evolved over time.  "
   ]
  },
  {
   "cell_type": "code",
   "execution_count": 10,
   "id": "b8516a2a",
   "metadata": {},
   "outputs": [],
   "source": [
    "missing_val = pd.DataFrame()\n",
    "year = np.unique(data.year_acc)\n",
    "for y in year:\n",
    "    sub = data[data.year_acc == y]\n",
    "    missing_val_y = pd.DataFrame(sub.isnull().sum().sort_values(ascending=False)/sub.shape[0]*100)\n",
    "    missing_val_y.columns = ['taux_miss_'+str(y)]\n",
    "    missing_val = pd.concat([missing_val, missing_val_y], axis = 1)"
   ]
  },
  {
   "cell_type": "code",
   "execution_count": 11,
   "id": "8e176f6f",
   "metadata": {},
   "outputs": [
    {
     "data": {
      "text/html": [
       "<div>\n",
       "<style scoped>\n",
       "    .dataframe tbody tr th:only-of-type {\n",
       "        vertical-align: middle;\n",
       "    }\n",
       "\n",
       "    .dataframe tbody tr th {\n",
       "        vertical-align: top;\n",
       "    }\n",
       "\n",
       "    .dataframe thead th {\n",
       "        text-align: right;\n",
       "    }\n",
       "</style>\n",
       "<table border=\"1\" class=\"dataframe\">\n",
       "  <thead>\n",
       "    <tr style=\"text-align: right;\">\n",
       "      <th></th>\n",
       "      <th>taux_miss_2016</th>\n",
       "      <th>taux_miss_2017</th>\n",
       "      <th>taux_miss_2018</th>\n",
       "      <th>taux_miss_2019</th>\n",
       "      <th>taux_miss_2020</th>\n",
       "    </tr>\n",
       "  </thead>\n",
       "  <tbody>\n",
       "    <tr>\n",
       "      <th>Precipitation(in)</th>\n",
       "      <td>89.965591</td>\n",
       "      <td>87.001099</td>\n",
       "      <td>85.599871</td>\n",
       "      <td>21.002628</td>\n",
       "      <td>6.134666</td>\n",
       "    </tr>\n",
       "    <tr>\n",
       "      <th>Wind_Chill(F)</th>\n",
       "      <td>88.079644</td>\n",
       "      <td>82.493136</td>\n",
       "      <td>77.976590</td>\n",
       "      <td>12.791666</td>\n",
       "      <td>3.989050</td>\n",
       "    </tr>\n",
       "    <tr>\n",
       "      <th>Number</th>\n",
       "      <td>78.399381</td>\n",
       "      <td>78.707106</td>\n",
       "      <td>78.010136</td>\n",
       "      <td>74.470150</td>\n",
       "      <td>61.636791</td>\n",
       "    </tr>\n",
       "    <tr>\n",
       "      <th>Wind_Speed(mph)</th>\n",
       "      <td>17.903731</td>\n",
       "      <td>16.864885</td>\n",
       "      <td>18.997101</td>\n",
       "      <td>6.609569</td>\n",
       "      <td>3.554368</td>\n",
       "    </tr>\n",
       "    <tr>\n",
       "      <th>Visibility(mi)</th>\n",
       "      <td>2.339841</td>\n",
       "      <td>2.651985</td>\n",
       "      <td>2.958619</td>\n",
       "      <td>2.746665</td>\n",
       "      <td>3.115117</td>\n",
       "    </tr>\n",
       "    <tr>\n",
       "      <th>Weather_Condition</th>\n",
       "      <td>2.316644</td>\n",
       "      <td>2.685495</td>\n",
       "      <td>3.050271</td>\n",
       "      <td>2.777226</td>\n",
       "      <td>3.056228</td>\n",
       "    </tr>\n",
       "    <tr>\n",
       "      <th>Humidity(%)</th>\n",
       "      <td>2.173594</td>\n",
       "      <td>2.322765</td>\n",
       "      <td>2.691451</td>\n",
       "      <td>2.878459</td>\n",
       "      <td>3.391029</td>\n",
       "    </tr>\n",
       "    <tr>\n",
       "      <th>Temperature(F)</th>\n",
       "      <td>2.049101</td>\n",
       "      <td>2.228702</td>\n",
       "      <td>2.578234</td>\n",
       "      <td>2.771496</td>\n",
       "      <td>3.177051</td>\n",
       "    </tr>\n",
       "    <tr>\n",
       "      <th>Pressure(in)</th>\n",
       "      <td>1.597526</td>\n",
       "      <td>1.930640</td>\n",
       "      <td>2.472205</td>\n",
       "      <td>2.215669</td>\n",
       "      <td>2.664824</td>\n",
       "    </tr>\n",
       "    <tr>\n",
       "      <th>Wind_Direction</th>\n",
       "      <td>0.904697</td>\n",
       "      <td>1.142864</td>\n",
       "      <td>1.674893</td>\n",
       "      <td>3.026298</td>\n",
       "      <td>3.556906</td>\n",
       "    </tr>\n",
       "    <tr>\n",
       "      <th>Weather_Timestamp</th>\n",
       "      <td>0.895419</td>\n",
       "      <td>1.136985</td>\n",
       "      <td>1.669502</td>\n",
       "      <td>1.925340</td>\n",
       "      <td>2.455161</td>\n",
       "    </tr>\n",
       "    <tr>\n",
       "      <th>Airport_Code</th>\n",
       "      <td>0.154649</td>\n",
       "      <td>0.167549</td>\n",
       "      <td>0.340849</td>\n",
       "      <td>0.359855</td>\n",
       "      <td>0.285811</td>\n",
       "    </tr>\n",
       "    <tr>\n",
       "      <th>Timezone</th>\n",
       "      <td>0.075005</td>\n",
       "      <td>0.086420</td>\n",
       "      <td>0.205468</td>\n",
       "      <td>0.293767</td>\n",
       "      <td>0.120061</td>\n",
       "    </tr>\n",
       "    <tr>\n",
       "      <th>Zipcode</th>\n",
       "      <td>0.064953</td>\n",
       "      <td>0.071723</td>\n",
       "      <td>0.097043</td>\n",
       "      <td>0.092829</td>\n",
       "      <td>0.041120</td>\n",
       "    </tr>\n",
       "    <tr>\n",
       "      <th>Nautical_Twilight</th>\n",
       "      <td>0.010052</td>\n",
       "      <td>0.008818</td>\n",
       "      <td>0.002995</td>\n",
       "      <td>0.001910</td>\n",
       "      <td>0.005711</td>\n",
       "    </tr>\n",
       "    <tr>\n",
       "      <th>City</th>\n",
       "      <td>0.010052</td>\n",
       "      <td>0.008818</td>\n",
       "      <td>0.002995</td>\n",
       "      <td>0.001910</td>\n",
       "      <td>0.005711</td>\n",
       "    </tr>\n",
       "    <tr>\n",
       "      <th>Sunrise_Sunset</th>\n",
       "      <td>0.010052</td>\n",
       "      <td>0.008818</td>\n",
       "      <td>0.002995</td>\n",
       "      <td>0.001910</td>\n",
       "      <td>0.005711</td>\n",
       "    </tr>\n",
       "    <tr>\n",
       "      <th>Civil_Twilight</th>\n",
       "      <td>0.010052</td>\n",
       "      <td>0.008818</td>\n",
       "      <td>0.002995</td>\n",
       "      <td>0.001910</td>\n",
       "      <td>0.005711</td>\n",
       "    </tr>\n",
       "    <tr>\n",
       "      <th>Astronomical_Twilight</th>\n",
       "      <td>0.010052</td>\n",
       "      <td>0.008818</td>\n",
       "      <td>0.002995</td>\n",
       "      <td>0.001910</td>\n",
       "      <td>0.005711</td>\n",
       "    </tr>\n",
       "  </tbody>\n",
       "</table>\n",
       "</div>"
      ],
      "text/plain": [
       "                       taux_miss_2016  taux_miss_2017  taux_miss_2018  \\\n",
       "Precipitation(in)           89.965591       87.001099       85.599871   \n",
       "Wind_Chill(F)               88.079644       82.493136       77.976590   \n",
       "Number                      78.399381       78.707106       78.010136   \n",
       "Wind_Speed(mph)             17.903731       16.864885       18.997101   \n",
       "Visibility(mi)               2.339841        2.651985        2.958619   \n",
       "Weather_Condition            2.316644        2.685495        3.050271   \n",
       "Humidity(%)                  2.173594        2.322765        2.691451   \n",
       "Temperature(F)               2.049101        2.228702        2.578234   \n",
       "Pressure(in)                 1.597526        1.930640        2.472205   \n",
       "Wind_Direction               0.904697        1.142864        1.674893   \n",
       "Weather_Timestamp            0.895419        1.136985        1.669502   \n",
       "Airport_Code                 0.154649        0.167549        0.340849   \n",
       "Timezone                     0.075005        0.086420        0.205468   \n",
       "Zipcode                      0.064953        0.071723        0.097043   \n",
       "Nautical_Twilight            0.010052        0.008818        0.002995   \n",
       "City                         0.010052        0.008818        0.002995   \n",
       "Sunrise_Sunset               0.010052        0.008818        0.002995   \n",
       "Civil_Twilight               0.010052        0.008818        0.002995   \n",
       "Astronomical_Twilight        0.010052        0.008818        0.002995   \n",
       "\n",
       "                       taux_miss_2019  taux_miss_2020  \n",
       "Precipitation(in)           21.002628        6.134666  \n",
       "Wind_Chill(F)               12.791666        3.989050  \n",
       "Number                      74.470150       61.636791  \n",
       "Wind_Speed(mph)              6.609569        3.554368  \n",
       "Visibility(mi)               2.746665        3.115117  \n",
       "Weather_Condition            2.777226        3.056228  \n",
       "Humidity(%)                  2.878459        3.391029  \n",
       "Temperature(F)               2.771496        3.177051  \n",
       "Pressure(in)                 2.215669        2.664824  \n",
       "Wind_Direction               3.026298        3.556906  \n",
       "Weather_Timestamp            1.925340        2.455161  \n",
       "Airport_Code                 0.359855        0.285811  \n",
       "Timezone                     0.293767        0.120061  \n",
       "Zipcode                      0.092829        0.041120  \n",
       "Nautical_Twilight            0.001910        0.005711  \n",
       "City                         0.001910        0.005711  \n",
       "Sunrise_Sunset               0.001910        0.005711  \n",
       "Civil_Twilight               0.001910        0.005711  \n",
       "Astronomical_Twilight        0.001910        0.005711  "
      ]
     },
     "execution_count": 11,
     "metadata": {},
     "output_type": "execute_result"
    }
   ],
   "source": [
    "missing_val['filtre'] = missing_val.taux_miss_2016+missing_val.taux_miss_2017+missing_val.taux_miss_2018+missing_val.taux_miss_2019+missing_val.taux_miss_2020\n",
    "missing_val[missing_val.filtre > 0][['taux_miss_2016','taux_miss_2017','taux_miss_2018','taux_miss_2019','taux_miss_2020']]"
   ]
  },
  {
   "cell_type": "markdown",
   "id": "2c9f89bf",
   "metadata": {},
   "source": [
    "$\\require{color}$\n",
    "$\\colorbox{red}{The percentage of missing values, aggregated by year, is far from constant. This is a preliminary sign of data drift.}$"
   ]
  },
  {
   "cell_type": "markdown",
   "id": "7690ac29",
   "metadata": {},
   "source": [
    "### Final dataset features"
   ]
  },
  {
   "cell_type": "code",
   "execution_count": 12,
   "id": "d8713d00",
   "metadata": {},
   "outputs": [],
   "source": [
    "data = data[feats_to_keep]"
   ]
  },
  {
   "cell_type": "markdown",
   "id": "72e2beca",
   "metadata": {},
   "source": [
    "### Quantitative features  "
   ]
  },
  {
   "cell_type": "code",
   "execution_count": 13,
   "id": "d075f53f",
   "metadata": {},
   "outputs": [],
   "source": [
    "for v in ['Distance(mi)','Temperature(F)','Humidity(%)','Visibility(mi)']:\n",
    "    data[v] = np.round(data[v],0)"
   ]
  },
  {
   "cell_type": "code",
   "execution_count": 14,
   "id": "3d90b58e",
   "metadata": {},
   "outputs": [],
   "source": [
    "data['Start_Lat'] = np.round(data['Start_Lat'],1)\n",
    "data['Start_Lng'] = np.round(data['Start_Lng'],1)"
   ]
  },
  {
   "cell_type": "markdown",
   "id": "bf828d03",
   "metadata": {},
   "source": [
    "### Categorical features  \n",
    "Here we try to limit the number of modalities in each categorical feature.   \n",
    "Reducing the cardinality of each feature down to a reasonable number (here we chose 10) helps with the training of many supervised models, namely CatBoost in the present case. So does encoding of categorical features (here, Wind_Direction).  \n",
    "We also rework some labels for uniformity's sake. "
   ]
  },
  {
   "cell_type": "code",
   "execution_count": 15,
   "id": "dfd22c30",
   "metadata": {},
   "outputs": [],
   "source": [
    "cond = [data['Weather_Condition'].isin(list(data.Weather_Condition.value_counts().index[0:9]))]\n",
    "choix = [data['Weather_Condition']]\n",
    "data['Weather_Condition'] = np.select(cond, choix, default = 'Other')"
   ]
  },
  {
   "cell_type": "code",
   "execution_count": 16,
   "id": "7223bbc1",
   "metadata": {},
   "outputs": [],
   "source": [
    "data['Wind_Direction'] = data['Wind_Direction'].fillna('NR')\n",
    "data['Wind_Direction'] = data['Wind_Direction'].apply(lambda row: row.lower())"
   ]
  },
  {
   "cell_type": "code",
   "execution_count": 17,
   "id": "38df29fa",
   "metadata": {},
   "outputs": [],
   "source": [
    "cond = [data.Wind_Direction == 'south',\n",
    "       data.Wind_Direction == 'west',\n",
    "       data.Wind_Direction == 'north',\n",
    "        data.Wind_Direction == 'east',\n",
    "        data.Wind_Direction == 'var',\n",
    "       ]\n",
    "choice = ['s','w','n','e','variable']\n",
    "data['Wind_Direction'] = np.select(cond, choice, default = data['Wind_Direction'])"
   ]
  },
  {
   "cell_type": "code",
   "execution_count": null,
   "id": "6283753a",
   "metadata": {},
   "outputs": [],
   "source": [
    "data['Wind_Direction'] = ce.CatBoostEncoder(cols=['Wind_Direction'])\\\n",
    ".fit_transform(data[['Wind_Direction']], data.cible.astype('float'))"
   ]
  },
  {
   "cell_type": "markdown",
   "id": "ac192b04",
   "metadata": {},
   "source": [
    "### Sampling  \n",
    "For the purpose of our tutorials, a sample size of ~50000 is sufficient.  \n",
    "The following few steps reduce the sample size down to about this number, and balance the number of samples per year, in an effort to reduce this source of bias before training a model or producing a quantitative analysis."
   ]
  },
  {
   "cell_type": "code",
   "execution_count": 31,
   "id": "c97d715f",
   "metadata": {},
   "outputs": [],
   "source": [
    "sampled_data = pd.DataFrame()\n",
    "annee = np.unique(data.year_acc)\n",
    "for a in annee:\n",
    "    sub = data[data.year_acc == a]\n",
    "    sub = sub.reset_index(drop = True)\n",
    "    tir = np.random.choice(a = sub.shape[0], size = int(round(sub.shape[0]*0.2)), replace = False)\n",
    "    sampled_data = pd.concat([sampled_data, sub.iloc[tir,:]], axis = 0)\n",
    "    sampled_data = sampled_data.reset_index(drop = True)"
   ]
  },
  {
   "cell_type": "code",
   "execution_count": 33,
   "id": "82247c82",
   "metadata": {},
   "outputs": [],
   "source": [
    "sampled_data = sampled_data.iloc[np.random.choice(size = 50000, a = sampled_data.index, replace = False),:]\n",
    "sampled_data = sampled_data.reset_index(drop  = True)"
   ]
  },
  {
   "cell_type": "code",
   "execution_count": 34,
   "id": "9732a65e",
   "metadata": {},
   "outputs": [],
   "source": [
    "sampled_data = pd.concat([sampled_data.iloc[np.random.choice(sampled_data[sampled_data.year_acc == 2020].index, size = 8000, replace = False),:]\\\n",
    "           ,sampled_data[sampled_data.year_acc != 2020]], axis = 0)"
   ]
  },
  {
   "cell_type": "markdown",
   "id": "62f6cb9c",
   "metadata": {},
   "source": [
    "### Let us have a final look at our data :"
   ]
  },
  {
   "cell_type": "code",
   "execution_count": 35,
   "id": "990107c2",
   "metadata": {
    "scrolled": true
   },
   "outputs": [
    {
     "data": {
      "text/html": [
       "<div>\n",
       "<style scoped>\n",
       "    .dataframe tbody tr th:only-of-type {\n",
       "        vertical-align: middle;\n",
       "    }\n",
       "\n",
       "    .dataframe tbody tr th {\n",
       "        vertical-align: top;\n",
       "    }\n",
       "\n",
       "    .dataframe thead th {\n",
       "        text-align: right;\n",
       "    }\n",
       "</style>\n",
       "<table border=\"1\" class=\"dataframe\">\n",
       "  <thead>\n",
       "    <tr style=\"text-align: right;\">\n",
       "      <th></th>\n",
       "      <th>Start_Lat</th>\n",
       "      <th>Start_Lng</th>\n",
       "      <th>Distance(mi)</th>\n",
       "      <th>Temperature(F)</th>\n",
       "      <th>Humidity(%)</th>\n",
       "      <th>Visibility(mi)</th>\n",
       "      <th>Wind_Direction</th>\n",
       "      <th>Weather_Condition</th>\n",
       "      <th>day_of_week_acc</th>\n",
       "      <th>Nautical_Twilight</th>\n",
       "      <th>season_acc</th>\n",
       "      <th>cible</th>\n",
       "      <th>year_acc</th>\n",
       "    </tr>\n",
       "  </thead>\n",
       "  <tbody>\n",
       "    <tr>\n",
       "      <th>37331</th>\n",
       "      <td>47.0</td>\n",
       "      <td>-114.3</td>\n",
       "      <td>0.0</td>\n",
       "      <td>15.0</td>\n",
       "      <td>95.0</td>\n",
       "      <td>10.0</td>\n",
       "      <td>0.132205</td>\n",
       "      <td>Fair</td>\n",
       "      <td>0</td>\n",
       "      <td>Night</td>\n",
       "      <td>winter</td>\n",
       "      <td>0</td>\n",
       "      <td>2020</td>\n",
       "    </tr>\n",
       "    <tr>\n",
       "      <th>32661</th>\n",
       "      <td>33.9</td>\n",
       "      <td>-117.9</td>\n",
       "      <td>0.0</td>\n",
       "      <td>67.0</td>\n",
       "      <td>51.0</td>\n",
       "      <td>10.0</td>\n",
       "      <td>0.140612</td>\n",
       "      <td>Fair</td>\n",
       "      <td>3</td>\n",
       "      <td>Day</td>\n",
       "      <td>winter</td>\n",
       "      <td>0</td>\n",
       "      <td>2020</td>\n",
       "    </tr>\n",
       "    <tr>\n",
       "      <th>7027</th>\n",
       "      <td>40.2</td>\n",
       "      <td>-79.6</td>\n",
       "      <td>1.0</td>\n",
       "      <td>41.0</td>\n",
       "      <td>42.0</td>\n",
       "      <td>10.0</td>\n",
       "      <td>0.114082</td>\n",
       "      <td>Partly Cloudy</td>\n",
       "      <td>0</td>\n",
       "      <td>Day</td>\n",
       "      <td>autumn</td>\n",
       "      <td>0</td>\n",
       "      <td>2020</td>\n",
       "    </tr>\n",
       "  </tbody>\n",
       "</table>\n",
       "</div>"
      ],
      "text/plain": [
       "       Start_Lat  Start_Lng  Distance(mi)  Temperature(F)  Humidity(%)  \\\n",
       "37331       47.0     -114.3           0.0            15.0         95.0   \n",
       "32661       33.9     -117.9           0.0            67.0         51.0   \n",
       "7027        40.2      -79.6           1.0            41.0         42.0   \n",
       "\n",
       "       Visibility(mi)  Wind_Direction Weather_Condition  day_of_week_acc  \\\n",
       "37331            10.0        0.132205              Fair                0   \n",
       "32661            10.0        0.140612              Fair                3   \n",
       "7027             10.0        0.114082     Partly Cloudy                0   \n",
       "\n",
       "      Nautical_Twilight season_acc cible  year_acc  \n",
       "37331             Night     winter     0      2020  \n",
       "32661               Day     winter     0      2020  \n",
       "7027                Day     autumn     0      2020  "
      ]
     },
     "execution_count": 35,
     "metadata": {},
     "output_type": "execute_result"
    }
   ],
   "source": [
    "sampled_data.head(3)"
   ]
  },
  {
   "cell_type": "code",
   "execution_count": 36,
   "id": "6bbefb6b",
   "metadata": {
    "scrolled": true
   },
   "outputs": [
    {
     "data": {
      "text/html": [
       "<div>\n",
       "<style scoped>\n",
       "    .dataframe tbody tr th:only-of-type {\n",
       "        vertical-align: middle;\n",
       "    }\n",
       "\n",
       "    .dataframe tbody tr th {\n",
       "        vertical-align: top;\n",
       "    }\n",
       "\n",
       "    .dataframe thead th {\n",
       "        text-align: right;\n",
       "    }\n",
       "</style>\n",
       "<table border=\"1\" class=\"dataframe\">\n",
       "  <thead>\n",
       "    <tr style=\"text-align: right;\">\n",
       "      <th></th>\n",
       "      <th>Start_Lat</th>\n",
       "      <th>Start_Lng</th>\n",
       "      <th>Distance(mi)</th>\n",
       "      <th>Temperature(F)</th>\n",
       "      <th>Humidity(%)</th>\n",
       "      <th>Visibility(mi)</th>\n",
       "      <th>Wind_Direction</th>\n",
       "      <th>day_of_week_acc</th>\n",
       "      <th>year_acc</th>\n",
       "    </tr>\n",
       "  </thead>\n",
       "  <tbody>\n",
       "    <tr>\n",
       "      <th>count</th>\n",
       "      <td>32003.000000</td>\n",
       "      <td>32003.000000</td>\n",
       "      <td>32003.000000</td>\n",
       "      <td>31134.000000</td>\n",
       "      <td>31092.000000</td>\n",
       "      <td>31078.000000</td>\n",
       "      <td>32003.000000</td>\n",
       "      <td>32003.000000</td>\n",
       "      <td>32003.000000</td>\n",
       "    </tr>\n",
       "    <tr>\n",
       "      <th>mean</th>\n",
       "      <td>37.246477</td>\n",
       "      <td>-99.243827</td>\n",
       "      <td>0.566509</td>\n",
       "      <td>60.403707</td>\n",
       "      <td>64.004213</td>\n",
       "      <td>9.169187</td>\n",
       "      <td>0.186780</td>\n",
       "      <td>2.541762</td>\n",
       "      <td>2018.332000</td>\n",
       "    </tr>\n",
       "    <tr>\n",
       "      <th>std</th>\n",
       "      <td>5.079399</td>\n",
       "      <td>18.433532</td>\n",
       "      <td>1.693327</td>\n",
       "      <td>18.694226</td>\n",
       "      <td>23.350920</td>\n",
       "      <td>3.198350</td>\n",
       "      <td>0.064868</td>\n",
       "      <td>1.795885</td>\n",
       "      <td>1.363174</td>\n",
       "    </tr>\n",
       "    <tr>\n",
       "      <th>min</th>\n",
       "      <td>24.700000</td>\n",
       "      <td>-124.500000</td>\n",
       "      <td>0.000000</td>\n",
       "      <td>-25.000000</td>\n",
       "      <td>1.000000</td>\n",
       "      <td>0.000000</td>\n",
       "      <td>0.060574</td>\n",
       "      <td>0.000000</td>\n",
       "      <td>2016.000000</td>\n",
       "    </tr>\n",
       "    <tr>\n",
       "      <th>25%</th>\n",
       "      <td>33.900000</td>\n",
       "      <td>-118.200000</td>\n",
       "      <td>0.000000</td>\n",
       "      <td>48.000000</td>\n",
       "      <td>47.000000</td>\n",
       "      <td>10.000000</td>\n",
       "      <td>0.137373</td>\n",
       "      <td>1.000000</td>\n",
       "      <td>2017.000000</td>\n",
       "    </tr>\n",
       "    <tr>\n",
       "      <th>50%</th>\n",
       "      <td>37.700000</td>\n",
       "      <td>-95.400000</td>\n",
       "      <td>0.000000</td>\n",
       "      <td>62.000000</td>\n",
       "      <td>67.000000</td>\n",
       "      <td>10.000000</td>\n",
       "      <td>0.160983</td>\n",
       "      <td>2.000000</td>\n",
       "      <td>2019.000000</td>\n",
       "    </tr>\n",
       "    <tr>\n",
       "      <th>75%</th>\n",
       "      <td>40.900000</td>\n",
       "      <td>-81.400000</td>\n",
       "      <td>1.000000</td>\n",
       "      <td>74.000000</td>\n",
       "      <td>83.000000</td>\n",
       "      <td>10.000000</td>\n",
       "      <td>0.232959</td>\n",
       "      <td>4.000000</td>\n",
       "      <td>2019.000000</td>\n",
       "    </tr>\n",
       "    <tr>\n",
       "      <th>max</th>\n",
       "      <td>49.000000</td>\n",
       "      <td>-68.400000</td>\n",
       "      <td>112.000000</td>\n",
       "      <td>112.000000</td>\n",
       "      <td>100.000000</td>\n",
       "      <td>120.000000</td>\n",
       "      <td>0.590862</td>\n",
       "      <td>6.000000</td>\n",
       "      <td>2020.000000</td>\n",
       "    </tr>\n",
       "  </tbody>\n",
       "</table>\n",
       "</div>"
      ],
      "text/plain": [
       "          Start_Lat     Start_Lng  Distance(mi)  Temperature(F)   Humidity(%)  \\\n",
       "count  32003.000000  32003.000000  32003.000000    31134.000000  31092.000000   \n",
       "mean      37.246477    -99.243827      0.566509       60.403707     64.004213   \n",
       "std        5.079399     18.433532      1.693327       18.694226     23.350920   \n",
       "min       24.700000   -124.500000      0.000000      -25.000000      1.000000   \n",
       "25%       33.900000   -118.200000      0.000000       48.000000     47.000000   \n",
       "50%       37.700000    -95.400000      0.000000       62.000000     67.000000   \n",
       "75%       40.900000    -81.400000      1.000000       74.000000     83.000000   \n",
       "max       49.000000    -68.400000    112.000000      112.000000    100.000000   \n",
       "\n",
       "       Visibility(mi)  Wind_Direction  day_of_week_acc      year_acc  \n",
       "count    31078.000000    32003.000000     32003.000000  32003.000000  \n",
       "mean         9.169187        0.186780         2.541762   2018.332000  \n",
       "std          3.198350        0.064868         1.795885      1.363174  \n",
       "min          0.000000        0.060574         0.000000   2016.000000  \n",
       "25%         10.000000        0.137373         1.000000   2017.000000  \n",
       "50%         10.000000        0.160983         2.000000   2019.000000  \n",
       "75%         10.000000        0.232959         4.000000   2019.000000  \n",
       "max        120.000000        0.590862         6.000000   2020.000000  "
      ]
     },
     "execution_count": 36,
     "metadata": {},
     "output_type": "execute_result"
    }
   ],
   "source": [
    "sampled_data.describe()"
   ]
  },
  {
   "cell_type": "markdown",
   "id": "61d45a70",
   "metadata": {},
   "source": [
    "### Write the sample to disk"
   ]
  },
  {
   "cell_type": "code",
   "execution_count": null,
   "id": "1c8de28d",
   "metadata": {},
   "outputs": [],
   "source": [
    "# sampled_data.to_csv('US_Accidents_extract.csv', index = False)"
   ]
  }
 ],
 "metadata": {
  "kernelspec": {
   "display_name": "dev_euryb_datapane",
   "language": "python",
   "name": "dev_euryb_datapane"
  },
  "language_info": {
   "codemirror_mode": {
    "name": "ipython",
    "version": 3
   },
   "file_extension": ".py",
   "mimetype": "text/x-python",
   "name": "python",
   "nbconvert_exporter": "python",
   "pygments_lexer": "ipython3",
   "version": "3.9.12"
  }
 },
 "nbformat": 4,
 "nbformat_minor": 5
}
