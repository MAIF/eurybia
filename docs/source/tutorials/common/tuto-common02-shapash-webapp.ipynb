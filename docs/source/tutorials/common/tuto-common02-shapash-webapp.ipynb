{
 "cells": [
  {
   "cell_type": "markdown",
   "id": "2e6c1448",
   "metadata": {},
   "source": [
    "# Use Shapash Webapp with Eurybia\n"
   ]
  },
  {
   "cell_type": "markdown",
   "id": "97444094",
   "metadata": {},
   "source": [
    "<b>With this tutorial you:</b><br />\n",
    "Understand how use Eurybia and Shapash web app to understand datadrift classifier<br />\n",
    "\n",
    "Contents:\n",
    "- Build a model to deploy\n",
    "- Do data validation between learning dataset and production dataset\n",
    "- Generate Report \n",
    "- Run Webapp\n",
    "\n",
    "\n",
    "Data from Kaggle [Titanic](https://www.kaggle.com/c/titanic)<br />"
   ]
  },
  {
   "cell_type": "code",
   "execution_count": 1,
   "id": "a3dccf5a",
   "metadata": {},
   "outputs": [],
   "source": [
    "import pandas as pd\n",
    "from category_encoders import OrdinalEncoder\n",
    "import catboost\n",
    "from eurybia.core.smartdrift import SmartDrift\n",
    "from sklearn.model_selection import train_test_split"
   ]
  },
  {
   "cell_type": "markdown",
   "id": "e3724750",
   "metadata": {},
   "source": [
    "## Building Supervized Model\n"
   ]
  },
  {
   "cell_type": "code",
   "execution_count": 2,
   "id": "b2e18d96",
   "metadata": {},
   "outputs": [],
   "source": [
    "from eurybia.data.data_loader import data_loading"
   ]
  },
  {
   "cell_type": "code",
   "execution_count": 3,
   "id": "9dec2e88",
   "metadata": {},
   "outputs": [],
   "source": [
    "titan_df = data_loading('titanic')"
   ]
  },
  {
   "cell_type": "code",
   "execution_count": 4,
   "id": "dcb7ca66",
   "metadata": {},
   "outputs": [],
   "source": [
    "features = ['Pclass', 'Age', 'Embarked', 'Sex', 'SibSp', 'Parch', 'Fare']\n",
    "features_to_encode = ['Pclass', 'Embarked', 'Sex']"
   ]
  },
  {
   "cell_type": "code",
   "execution_count": 5,
   "id": "e879e07c",
   "metadata": {},
   "outputs": [
    {
     "name": "stderr",
     "output_type": "stream",
     "text": [
      "/home/maitrejinx/anaconda3/envs/eurybia39/lib/python3.9/site-packages/category_encoders/utils.py:21: FutureWarning:\n",
      "\n",
      "is_categorical is deprecated and will be removed in a future version.  Use is_categorical_dtype instead\n",
      "\n"
     ]
    },
    {
     "data": {
      "text/plain": [
       "OrdinalEncoder(cols=['Pclass', 'Embarked', 'Sex'],\n",
       "               mapping=[{'col': 'Pclass', 'data_type': dtype('O'),\n",
       "                         'mapping': Third class     1\n",
       "First class     2\n",
       "Second class    3\n",
       "NaN            -2\n",
       "dtype: int64},\n",
       "                        {'col': 'Embarked', 'data_type': dtype('O'),\n",
       "                         'mapping': Southampton    1\n",
       "Cherbourg      2\n",
       "Queenstown     3\n",
       "NaN           -2\n",
       "dtype: int64},\n",
       "                        {'col': 'Sex', 'data_type': dtype('O'),\n",
       "                         'mapping': male      1\n",
       "female    2\n",
       "NaN      -2\n",
       "dtype: int64}])"
      ]
     },
     "execution_count": 5,
     "metadata": {},
     "output_type": "execute_result"
    }
   ],
   "source": [
    "encoder = OrdinalEncoder(cols=features_to_encode)\n",
    "encoder.fit(titan_df[features]) "
   ]
  },
  {
   "cell_type": "code",
   "execution_count": 6,
   "id": "ab90ab21",
   "metadata": {},
   "outputs": [],
   "source": [
    "titan_df_encoded = encoder.transform(titan_df[features])"
   ]
  },
  {
   "cell_type": "code",
   "execution_count": 7,
   "id": "8ecca1ca",
   "metadata": {},
   "outputs": [],
   "source": [
    "X_train, X_test, y_train, y_test = train_test_split(\n",
    "    titan_df_encoded,\n",
    "    titan_df['Survived'].to_frame(),\n",
    "    test_size=0.2,\n",
    "    random_state=11\n",
    ")"
   ]
  },
  {
   "cell_type": "code",
   "execution_count": 8,
   "id": "a623ae46",
   "metadata": {},
   "outputs": [],
   "source": [
    "i=0\n",
    "indice_cat  = []\n",
    "for feature in titan_df_encoded:\n",
    "    if feature in features_to_encode:\n",
    "        indice_cat.append(i)\n",
    "    i=i+1"
   ]
  },
  {
   "cell_type": "code",
   "execution_count": 9,
   "id": "bc519ae1",
   "metadata": {},
   "outputs": [],
   "source": [
    "model = catboost.CatBoostClassifier(loss_function= \"Logloss\", eval_metric=\"Logloss\",\n",
    "        learning_rate=0.143852,\n",
    "        iterations=500,\n",
    "        l2_leaf_reg=15,\n",
    "        max_depth = 4)"
   ]
  },
  {
   "cell_type": "code",
   "execution_count": 10,
   "id": "e191e6be",
   "metadata": {},
   "outputs": [],
   "source": [
    "train_pool_cat = catboost.Pool(data=X_train, label= y_train, cat_features = indice_cat)\n",
    "test_pool_cat = catboost.Pool(data=X_test, label=y_test, cat_features = indice_cat) "
   ]
  },
  {
   "cell_type": "code",
   "execution_count": 11,
   "id": "2756067d",
   "metadata": {},
   "outputs": [],
   "source": [
    "model.fit(train_pool_cat, eval_set=test_pool_cat, silent=True)\n",
    "y_pred = model.predict(X_test)"
   ]
  },
  {
   "cell_type": "markdown",
   "id": "a1ede851",
   "metadata": {},
   "source": [
    "## Creating a fake dataset as a production dataset\n",
    "\n"
   ]
  },
  {
   "cell_type": "code",
   "execution_count": 12,
   "id": "5c70edbf",
   "metadata": {},
   "outputs": [],
   "source": [
    "import random"
   ]
  },
  {
   "cell_type": "code",
   "execution_count": 13,
   "id": "317e93eb",
   "metadata": {},
   "outputs": [],
   "source": [
    "df_production = titan_df.copy()"
   ]
  },
  {
   "cell_type": "code",
   "execution_count": 14,
   "id": "bea39460",
   "metadata": {},
   "outputs": [],
   "source": [
    "df_production['Age'] = df_production['Age'].apply(lambda x: random.randrange(10, 76)).astype(float)\n",
    "df_production['Fare'] = df_production['Fare'].apply(lambda x: random.randrange(1, 100)).astype(float)\n",
    "list_sex= [\"male\", \"female\"]\n",
    "df_production['Sex'] = df_production['Sex'].apply(lambda x: random.choice(list_sex))"
   ]
  },
  {
   "cell_type": "code",
   "execution_count": 15,
   "id": "144207df",
   "metadata": {},
   "outputs": [],
   "source": [
    "df_baseline = titan_df[features]\n",
    "df_current = df_production[features]"
   ]
  },
  {
   "cell_type": "code",
   "execution_count": 16,
   "id": "7e8d5593",
   "metadata": {},
   "outputs": [
    {
     "data": {
      "text/html": [
       "<div>\n",
       "<style scoped>\n",
       "    .dataframe tbody tr th:only-of-type {\n",
       "        vertical-align: middle;\n",
       "    }\n",
       "\n",
       "    .dataframe tbody tr th {\n",
       "        vertical-align: top;\n",
       "    }\n",
       "\n",
       "    .dataframe thead th {\n",
       "        text-align: right;\n",
       "    }\n",
       "</style>\n",
       "<table border=\"1\" class=\"dataframe\">\n",
       "  <thead>\n",
       "    <tr style=\"text-align: right;\">\n",
       "      <th></th>\n",
       "      <th>Pclass</th>\n",
       "      <th>Age</th>\n",
       "      <th>Embarked</th>\n",
       "      <th>Sex</th>\n",
       "      <th>SibSp</th>\n",
       "      <th>Parch</th>\n",
       "      <th>Fare</th>\n",
       "    </tr>\n",
       "    <tr>\n",
       "      <th>PassengerId</th>\n",
       "      <th></th>\n",
       "      <th></th>\n",
       "      <th></th>\n",
       "      <th></th>\n",
       "      <th></th>\n",
       "      <th></th>\n",
       "      <th></th>\n",
       "    </tr>\n",
       "  </thead>\n",
       "  <tbody>\n",
       "    <tr>\n",
       "      <th>1</th>\n",
       "      <td>Third class</td>\n",
       "      <td>56.0</td>\n",
       "      <td>Southampton</td>\n",
       "      <td>female</td>\n",
       "      <td>1</td>\n",
       "      <td>0</td>\n",
       "      <td>38.0</td>\n",
       "    </tr>\n",
       "    <tr>\n",
       "      <th>2</th>\n",
       "      <td>First class</td>\n",
       "      <td>51.0</td>\n",
       "      <td>Cherbourg</td>\n",
       "      <td>female</td>\n",
       "      <td>1</td>\n",
       "      <td>0</td>\n",
       "      <td>84.0</td>\n",
       "    </tr>\n",
       "    <tr>\n",
       "      <th>3</th>\n",
       "      <td>Third class</td>\n",
       "      <td>24.0</td>\n",
       "      <td>Southampton</td>\n",
       "      <td>female</td>\n",
       "      <td>0</td>\n",
       "      <td>0</td>\n",
       "      <td>45.0</td>\n",
       "    </tr>\n",
       "    <tr>\n",
       "      <th>4</th>\n",
       "      <td>First class</td>\n",
       "      <td>41.0</td>\n",
       "      <td>Southampton</td>\n",
       "      <td>male</td>\n",
       "      <td>1</td>\n",
       "      <td>0</td>\n",
       "      <td>38.0</td>\n",
       "    </tr>\n",
       "    <tr>\n",
       "      <th>5</th>\n",
       "      <td>Third class</td>\n",
       "      <td>32.0</td>\n",
       "      <td>Southampton</td>\n",
       "      <td>female</td>\n",
       "      <td>0</td>\n",
       "      <td>0</td>\n",
       "      <td>1.0</td>\n",
       "    </tr>\n",
       "  </tbody>\n",
       "</table>\n",
       "</div>"
      ],
      "text/plain": [
       "                  Pclass   Age     Embarked     Sex  SibSp  Parch  Fare\n",
       "PassengerId                                                            \n",
       "1            Third class  56.0  Southampton  female      1      0  38.0\n",
       "2            First class  51.0    Cherbourg  female      1      0  84.0\n",
       "3            Third class  24.0  Southampton  female      0      0  45.0\n",
       "4            First class  41.0  Southampton    male      1      0  38.0\n",
       "5            Third class  32.0  Southampton  female      0      0   1.0"
      ]
     },
     "execution_count": 16,
     "metadata": {},
     "output_type": "execute_result"
    }
   ],
   "source": [
    "df_current.head()"
   ]
  },
  {
   "cell_type": "code",
   "execution_count": 17,
   "id": "a02abe4f",
   "metadata": {},
   "outputs": [
    {
     "data": {
      "text/html": [
       "<div>\n",
       "<style scoped>\n",
       "    .dataframe tbody tr th:only-of-type {\n",
       "        vertical-align: middle;\n",
       "    }\n",
       "\n",
       "    .dataframe tbody tr th {\n",
       "        vertical-align: top;\n",
       "    }\n",
       "\n",
       "    .dataframe thead th {\n",
       "        text-align: right;\n",
       "    }\n",
       "</style>\n",
       "<table border=\"1\" class=\"dataframe\">\n",
       "  <thead>\n",
       "    <tr style=\"text-align: right;\">\n",
       "      <th></th>\n",
       "      <th>Pclass</th>\n",
       "      <th>Age</th>\n",
       "      <th>Embarked</th>\n",
       "      <th>Sex</th>\n",
       "      <th>SibSp</th>\n",
       "      <th>Parch</th>\n",
       "      <th>Fare</th>\n",
       "    </tr>\n",
       "    <tr>\n",
       "      <th>PassengerId</th>\n",
       "      <th></th>\n",
       "      <th></th>\n",
       "      <th></th>\n",
       "      <th></th>\n",
       "      <th></th>\n",
       "      <th></th>\n",
       "      <th></th>\n",
       "    </tr>\n",
       "  </thead>\n",
       "  <tbody>\n",
       "    <tr>\n",
       "      <th>1</th>\n",
       "      <td>Third class</td>\n",
       "      <td>22.0</td>\n",
       "      <td>Southampton</td>\n",
       "      <td>male</td>\n",
       "      <td>1</td>\n",
       "      <td>0</td>\n",
       "      <td>7.25</td>\n",
       "    </tr>\n",
       "    <tr>\n",
       "      <th>2</th>\n",
       "      <td>First class</td>\n",
       "      <td>38.0</td>\n",
       "      <td>Cherbourg</td>\n",
       "      <td>female</td>\n",
       "      <td>1</td>\n",
       "      <td>0</td>\n",
       "      <td>71.28</td>\n",
       "    </tr>\n",
       "    <tr>\n",
       "      <th>3</th>\n",
       "      <td>Third class</td>\n",
       "      <td>26.0</td>\n",
       "      <td>Southampton</td>\n",
       "      <td>female</td>\n",
       "      <td>0</td>\n",
       "      <td>0</td>\n",
       "      <td>7.92</td>\n",
       "    </tr>\n",
       "    <tr>\n",
       "      <th>4</th>\n",
       "      <td>First class</td>\n",
       "      <td>35.0</td>\n",
       "      <td>Southampton</td>\n",
       "      <td>female</td>\n",
       "      <td>1</td>\n",
       "      <td>0</td>\n",
       "      <td>53.10</td>\n",
       "    </tr>\n",
       "    <tr>\n",
       "      <th>5</th>\n",
       "      <td>Third class</td>\n",
       "      <td>35.0</td>\n",
       "      <td>Southampton</td>\n",
       "      <td>male</td>\n",
       "      <td>0</td>\n",
       "      <td>0</td>\n",
       "      <td>8.05</td>\n",
       "    </tr>\n",
       "  </tbody>\n",
       "</table>\n",
       "</div>"
      ],
      "text/plain": [
       "                  Pclass   Age     Embarked     Sex  SibSp  Parch   Fare\n",
       "PassengerId                                                             \n",
       "1            Third class  22.0  Southampton    male      1      0   7.25\n",
       "2            First class  38.0    Cherbourg  female      1      0  71.28\n",
       "3            Third class  26.0  Southampton  female      0      0   7.92\n",
       "4            First class  35.0  Southampton  female      1      0  53.10\n",
       "5            Third class  35.0  Southampton    male      0      0   8.05"
      ]
     },
     "execution_count": 17,
     "metadata": {},
     "output_type": "execute_result"
    }
   ],
   "source": [
    "df_baseline.head()"
   ]
  },
  {
   "cell_type": "markdown",
   "id": "54202f12",
   "metadata": {},
   "source": [
    "## Use Eurybia for data validation"
   ]
  },
  {
   "cell_type": "code",
   "execution_count": 18,
   "id": "b66f2c47",
   "metadata": {},
   "outputs": [],
   "source": [
    "from eurybia import SmartDrift"
   ]
  },
  {
   "cell_type": "code",
   "execution_count": 19,
   "id": "260c36c3",
   "metadata": {},
   "outputs": [],
   "source": [
    "SD = SmartDrift(df_current=df_current, df_baseline=df_baseline, deployed_model=model, encoding=encoder)"
   ]
  },
  {
   "cell_type": "code",
   "execution_count": 20,
   "id": "c74e56bb",
   "metadata": {},
   "outputs": [
    {
     "name": "stdout",
     "output_type": "stream",
     "text": [
      "Backend: Shap TreeExplainer\n",
      "CPU times: user 5.47 s, sys: 490 ms, total: 5.96 s\n",
      "Wall time: 3.16 s\n"
     ]
    }
   ],
   "source": [
    "%time SD.compile(full_validation=True)"
   ]
  },
  {
   "cell_type": "code",
   "execution_count": 21,
   "id": "ec907e9e",
   "metadata": {},
   "outputs": [
    {
     "name": "stderr",
     "output_type": "stream",
     "text": [
      "WARNING:datapane:Bokeh version 2.4.2 is not supported, these plots may not display correctly, please install version ~=2.2.0\n"
     ]
    },
    {
     "data": {
      "text/markdown": [
       "Report saved to ./../output/report_titanic.html. To upload and share your report, create a free Datapane account by running `!datapane signup`."
      ],
      "text/plain": [
       "<IPython.core.display.Markdown object>"
      ]
     },
     "metadata": {},
     "output_type": "display_data"
    }
   ],
   "source": [
    "SD.generate_report(    \n",
    "    output_file='../output/report_titanic.html',    \n",
    "    title_story=\"Data validation\",\n",
    "    title_description=\"\"\"Titanic Data validation\"\"\"   \n",
    "    )"
   ]
  },
  {
   "cell_type": "markdown",
   "id": "582afac8",
   "metadata": {},
   "source": [
    "## Launch WebApp Shapash from SmartDrift"
   ]
  },
  {
   "cell_type": "markdown",
   "id": "230cc56f",
   "metadata": {},
   "source": [
    "After compile step, you can launch a WebApp Shapash directly from your object SmartDrift. It allows you to access several dynamic plots that will help you to understand where drift has been detected in your data. <br/>\n",
    "For information on Shapash Webapp : (https://github.com/MAIF/shapash)"
   ]
  },
  {
   "cell_type": "code",
   "execution_count": 22,
   "id": "d6966349",
   "metadata": {},
   "outputs": [
    {
     "name": "stdout",
     "output_type": "stream",
     "text": [
      "Dash is running on http://0.0.0.0:8050/\n",
      "\n"
     ]
    },
    {
     "name": "stderr",
     "output_type": "stream",
     "text": [
      "/home/maitrejinx/anaconda3/envs/eurybia39/lib/python3.9/site-packages/shapash/webapp/smart_app.py:307: FutureWarning:\n",
      "\n",
      "Using short name for 'orient' is deprecated. Only the options: ('dict', list, 'series', 'split', 'records', 'index') will be used in a future version. Use one of the above to silence this warning.\n",
      "\n",
      "INFO:root:Your Shapash application run on http://maitrejinx-Latitude-E5570:8050/\n",
      "INFO:root:Use the method .kill() to down your app.\n",
      "INFO:shapash.webapp.smart_app:Dash is running on http://0.0.0.0:8050/\n",
      "\n"
     ]
    },
    {
     "name": "stdout",
     "output_type": "stream",
     "text": [
      " * Serving Flask app \"shapash.webapp.smart_app\" (lazy loading)\n",
      " * Environment: production\n",
      "\u001b[31m   WARNING: This is a development server. Do not use it in a production deployment.\u001b[0m\n",
      "\u001b[2m   Use a production WSGI server instead.\u001b[0m\n",
      " * Debug mode: off\n"
     ]
    }
   ],
   "source": [
    "app = SD.xpl.run_app(title_story='Eurybia datadrift classifier')"
   ]
  },
  {
   "cell_type": "markdown",
   "id": "8f49fb5a",
   "metadata": {},
   "source": [
    "**Stop the WebApp after using it**"
   ]
  },
  {
   "cell_type": "code",
   "execution_count": 24,
   "id": "99534aea",
   "metadata": {},
   "outputs": [],
   "source": [
    "app.kill()"
   ]
  }
 ],
 "metadata": {
  "kernelspec": {
   "display_name": "eurybia39",
   "language": "python",
   "name": "eurybia39"
  },
  "language_info": {
   "codemirror_mode": {
    "name": "ipython",
    "version": 3
   },
   "file_extension": ".py",
   "mimetype": "text/x-python",
   "name": "python",
   "nbconvert_exporter": "python",
   "pygments_lexer": "ipython3",
   "version": "3.9.7"
  },
  "toc": {
   "base_numbering": 1,
   "nav_menu": {},
   "number_sections": true,
   "sideBar": true,
   "skip_h1_title": false,
   "title_cell": "Table of Contents",
   "title_sidebar": "Contents",
   "toc_cell": false,
   "toc_position": {},
   "toc_section_display": true,
   "toc_window_display": false
  }
 },
 "nbformat": 4,
 "nbformat_minor": 5
}
