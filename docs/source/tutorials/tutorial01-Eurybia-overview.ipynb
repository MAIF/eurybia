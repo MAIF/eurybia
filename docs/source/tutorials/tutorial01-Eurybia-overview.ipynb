{
  "cells": [
    {
      "cell_type": "markdown",
      "id": "fd9f3425",
      "metadata": {},
      "source": [
        "# Eurybia - Overview\n",
        "This tutorial will help you understand how Eurybia works with a simple use case\n",
        "\n",
        "Contents:\n",
        "- Compile Eurybia \n",
        "- Generate report\n"
      ]
    },
    {
      "cell_type": "code",
      "execution_count": 1,
      "id": "b28aa5ec",
      "metadata": {},
      "outputs": [],
      "source": [
        "from category_encoders import OrdinalEncoder\n",
        "from lightgbm import LGBMRegressor\n",
        "from eurybia import SmartDrift\n",
        "from sklearn.model_selection import train_test_split"
      ]
    },
    {
      "cell_type": "markdown",
      "id": "62afc6bc",
      "metadata": {},
      "source": [
        "## Import Dataset and split in training and production dataset"
      ]
    },
    {
      "cell_type": "code",
      "execution_count": 2,
      "id": "205aab5a",
      "metadata": {},
      "outputs": [],
      "source": [
        "from eurybia.data.data_loader import data_loading\n",
        "house_df, house_dict = data_loading('house_prices')"
      ]
    },
    {
      "cell_type": "code",
      "execution_count": 3,
      "id": "f84d2459",
      "metadata": {},
      "outputs": [],
      "source": [
        "# Let us consider that the column \"YrSold\" corresponds to the reference date. \n",
        "#In 2006, a model was trained using data. And in 2007, we want to detect data drift on new data in production to predict\n",
        "#house price\n",
        "house_df_learning = house_df.loc[house_df['YrSold'] == 2006]\n",
        "house_df_2007 = house_df.loc[house_df['YrSold'] == 2007]"
      ]
    },
    {
      "cell_type": "code",
      "execution_count": 4,
      "id": "ac6ca577",
      "metadata": {},
      "outputs": [],
      "source": [
        "y_df_learning=house_df_learning['SalePrice'].to_frame()\n",
        "X_df_learning=house_df_learning[house_df_learning.columns.difference(['SalePrice','YrSold'])]\n",
        "\n",
        "y_df_2007=house_df_2007['SalePrice'].to_frame()\n",
        "X_df_2007=house_df_2007[house_df_2007.columns.difference(['SalePrice','YrSold'])]"
      ]
    },
    {
      "cell_type": "markdown",
      "id": "c48aadd5",
      "metadata": {},
      "source": [
        "## Building Supervized Model"
      ]
    },
    {
      "cell_type": "code",
      "execution_count": 5,
      "id": "89edc92c",
      "metadata": {},
      "outputs": [],
      "source": [
        "from category_encoders import OrdinalEncoder\n",
        "\n",
        "categorical_features = [col for col in X_df_learning.columns if X_df_learning[col].dtype == 'object']\n",
        "\n",
        "encoder = OrdinalEncoder(\n",
        "    cols=categorical_features,\n",
        "    handle_unknown='ignore',\n",
        "    return_df=True).fit(X_df_learning)\n",
        "\n",
        "X_df_learning_encoded=encoder.transform(X_df_learning)"
      ]
    },
    {
      "cell_type": "code",
      "execution_count": 6,
      "id": "78a06e16",
      "metadata": {},
      "outputs": [],
      "source": [
        "Xtrain, Xtest, ytrain, ytest = train_test_split(X_df_learning_encoded, y_df_learning, train_size=0.75, random_state=1)"
      ]
    },
    {
      "cell_type": "code",
      "execution_count": 7,
      "id": "d533dfb9",
      "metadata": {},
      "outputs": [],
      "source": [
        "regressor = LGBMRegressor(n_estimators=200).fit(Xtrain,ytrain)"
      ]
    },
    {
      "cell_type": "markdown",
      "id": "17a7e6fa",
      "metadata": {},
      "source": [
        "## Use Eurybia for data drift"
      ]
    },
    {
      "cell_type": "code",
      "execution_count": 8,
      "id": "e3bd740d",
      "metadata": {},
      "outputs": [],
      "source": [
        "from eurybia import SmartDrift"
      ]
    },
    {
      "cell_type": "code",
      "execution_count": 9,
      "id": "6096b305",
      "metadata": {},
      "outputs": [],
      "source": [
        "SD = SmartDrift(df_current=X_df_2007, df_baseline=X_df_learning, deployed_model=regressor, encoding=encoder)"
      ]
    },
    {
      "cell_type": "code",
      "execution_count": 10,
      "id": "c9ff2c6c",
      "metadata": {},
      "outputs": [
        {
          "name": "stdout",
          "output_type": "stream",
          "text": [
            "Backend: Shap TreeExplainer\n",
            "CPU times: user 2min 6s, sys: 5min 38s, total: 7min 44s\n",
            "Wall time: 12.3 s\n"
          ]
        }
      ],
      "source": [
        "%time SD.compile()"
      ]
    },
    {
      "cell_type": "code",
      "execution_count": 11,
      "id": "8e53feb7",
      "metadata": {},
      "outputs": [
        {
          "data": {
            "text/markdown": [
              "Report saved to ./report_house_price_datadrift_2007.html. To upload and share your report, create a free Datapane account by running `!datapane signup`."
            ],
            "text/plain": [
              "<IPython.core.display.Markdown object>"
            ]
          },
          "metadata": {},
          "output_type": "display_data"
        }
      ],
      "source": [
        "SD.generate_report(    \n",
        "    output_file='report_house_price_datadrift_2007.html',    \n",
        "    title_story=\"Data drift\",\n",
        "    title_description=\"\"\"House price Data drift 2007\"\"\",\n",
        "    project_info_file=\"../eurybia/data/project_info_house_price.yml\"  \n",
        "    )"
      ]
    },
    {
      "cell_type": "markdown",
      "id": "bca2474b",
      "metadata": {},
      "source": [
        "For a more detailed tutorial on :\n",
        "- Data validation : (https://github.com/MAIF/eurybia/tree/master/tutorial/data_validation)\n",
        "- Data drift : (https://github.com/MAIF/eurybia/tree/master/tutorial/data_drift)\n",
        "- Model drift : (https://github.com/MAIF/eurybia/tree/master/tutorial/model_drift)"
      ]
    }
  ],
  "metadata": {
    "interpreter": {
      "hash": "d08e6294e2d60f50397263035a337d71f3055486232bc02b45ce2785f62e7d8b"
    },
    "kernelspec": {
      "display_name": "Python 3",
      "language": "python",
      "name": "python3"
    },
    "language_info": {
      "codemirror_mode": {
        "name": "ipython",
        "version": 3
      },
      "file_extension": ".py",
      "mimetype": "text/x-python",
      "name": "python",
      "nbconvert_exporter": "python",
      "pygments_lexer": "ipython3",
      "version": "3.8.1"
    },
    "toc": {
      "base_numbering": 1,
      "nav_menu": {},
      "number_sections": true,
      "sideBar": true,
      "skip_h1_title": false,
      "title_cell": "Table of Contents",
      "title_sidebar": "Contents",
      "toc_cell": false,
      "toc_position": {},
      "toc_section_display": true,
      "toc_window_display": false
    }
  },
  "nbformat": 4,
  "nbformat_minor": 5
}
